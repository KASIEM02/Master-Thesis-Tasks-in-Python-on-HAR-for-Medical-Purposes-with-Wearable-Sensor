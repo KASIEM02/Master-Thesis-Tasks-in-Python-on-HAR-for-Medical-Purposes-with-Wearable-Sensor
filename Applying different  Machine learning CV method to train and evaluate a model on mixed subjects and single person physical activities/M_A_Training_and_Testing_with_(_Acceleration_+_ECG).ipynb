{
  "cells": [
    {
      "cell_type": "markdown",
      "id": "5b754c89",
      "metadata": {
        "id": "5b754c89"
      },
      "source": [
        "Training and Testing with ( Acceleration + ECG) Mhealth & Movesense datasets"
      ]
    },
    {
      "cell_type": "code",
      "execution_count": null,
      "id": "ecc9d889",
      "metadata": {
        "id": "ecc9d889"
      },
      "outputs": [],
      "source": [
        "# Importing libraries\n",
        "import pandas as pd\n",
        "import seaborn as sns\n",
        "import numpy as np\n",
        "import os\n",
        "import glob\n",
        "from scipy.signal import butter, filtfilt\n",
        "import matplotlib.pyplot as plt\n",
        "%matplotlib inline\n",
        "from keras import layers\n",
        "import keras\n",
        "from sklearn.preprocessing import StandardScaler\n",
        "from sklearn.metrics import classification_report, confusion_matrix\n",
        "import warnings\n",
        "warnings.filterwarnings('ignore')"
      ]
    },
    {
      "cell_type": "markdown",
      "id": "a9e8035e",
      "metadata": {
        "id": "a9e8035e"
      },
      "source": [
        "# Load training data"
      ]
    },
    {
      "cell_type": "code",
      "execution_count": null,
      "id": "f909ec24",
      "metadata": {
        "id": "f909ec24"
      },
      "outputs": [],
      "source": [
        "# File directory_path\n",
        "## Columns of the training dataset: 'subject column' was introduced to extract activities performed by a specific subject\n",
        "headers=('acc_CHsensor_X','acc_CHsensor_Y','acc_CHsensor_Z','ecg_i','ecg_ii','acc_LAsensor_X','acc_LAsensor_Y','acc_LAsensor_Z',\n",
        "       'gyro_LAsensor_X','gyro_LAsensor_Y','gyro_LAsensor_Z','magn_LAsensor_X','magn_LAsensor_Y','magn_LAsensor_Z',\n",
        "      ' acc_RLAsensor_X',' acc_RLAsensor_Y',' acc_RLAsensor_Z', 'gyro_RLAsensor_sensor_X',' gyro_RLAsensor_sensor_Y',\n",
        "      ' gyro_RLAsensor_sensor_Z','magn_RLAsensor_X','magn_RLAsensor_Y','magn_RLAsensor_Z','classes', 'subject')\n",
        "# File location\n",
        "path = r\"C:/Users/val-c/Machine Learning_Deep Learning/MHEALTHDATASET-csv/*.csv\" # get files from the introduced subjects, .csv\n",
        "data_files = glob.glob(path)\n",
        "# Get list of files from path\n",
        "data_frames = []\n",
        "for file in data_files:\n",
        "    movement_activity_data = pd.read_csv(file,header=None, names=headers)\n",
        "    data_frames.append( movement_activity_data)"
      ]
    },
    {
      "cell_type": "code",
      "execution_count": null,
      "id": "931dfe68",
      "metadata": {
        "id": "931dfe68"
      },
      "outputs": [],
      "source": [
        "# Merge the folder files and display data\n",
        "movement_activity_data = pd.concat(data_frames, ignore_index=True)\n",
        "movement_activity_data.head() #display first-five rows"
      ]
    },
    {
      "cell_type": "code",
      "execution_count": null,
      "id": "06d6e951",
      "metadata": {
        "id": "06d6e951"
      },
      "outputs": [],
      "source": [
        "# Examining the class label imbalance\n",
        "counts = np.bincount(movement_activity_data[\"classes\"])\n",
        "neg , pos = counts[0], counts[1]\n",
        "total = neg + pos\n",
        "print('samples:\\nTotal: {}\\nPositive: {} ({:.2f}% of total)\\n'.format(total, pos, 100 * pos / total))"
      ]
    },
    {
      "cell_type": "code",
      "execution_count": null,
      "id": "89a175ba",
      "metadata": {
        "id": "89a175ba"
      },
      "outputs": [],
      "source": [
        "# Plot the number of samples present in each class_label using a Bar plot.\n",
        "class_label = ['Null','Standing still','Sitting and relaxing','Lying down','Walking', 'Climbing stairs',\n",
        "                       'Waist bends forward', 'Frontal elevation of arms','Knees bending (crouching)','Cycling',\n",
        "                      'Jogging','Running','Jump front & back']\n",
        "plt.figure(figsize=(8, 7), dpi=80) # figure sizing\n",
        "num_classes = len(class_label)\n",
        "plt.bar(range(num_classes), movement_activity_data[\"classes\"].value_counts(), color='k', linewidth=0.1) #plot data\n",
        "# Replace the numerical x-axis ticks with class labels\n",
        "plt.xticks(range(num_classes), class_label, rotation=45, ha='right')\n",
        "# the x-axis and y-axis labels, title\n",
        "plt.xlabel('\\nClasses', fontsize=12)\n",
        "plt.ylabel('\\nCount', fontsize=12)\n",
        "plt.title(\"\\nNumber of samples by class\", fontsize=14)\n",
        "plt.show() #display plot"
      ]
    },
    {
      "cell_type": "code",
      "execution_count": null,
      "id": "38dcc955",
      "metadata": {
        "id": "38dcc955"
      },
      "outputs": [],
      "source": [
        "# Downsampling null_classes_0 observation to account for the imbalance distribution\n",
        "def downsample_data(movement_activity_data):\n",
        "    mask = movement_activity_data['classes'] == 0\n",
        "    HAR_data_classes0 = movement_activity_data[mask].sample(n=30720, random_state=1)\n",
        "    HAR_data_classes_else = movement_activity_data[~mask]\n",
        "    return pd.concat([HAR_data_classes0, HAR_data_classes_else], ignore_index=True)\n",
        "movement_data = downsample_data(movement_activity_data)\n",
        "# display the statistical balance\n",
        "movement_data.classes.value_counts()"
      ]
    },
    {
      "cell_type": "code",
      "execution_count": null,
      "id": "2a7eb6f7",
      "metadata": {
        "id": "2a7eb6f7"
      },
      "outputs": [],
      "source": [
        "# Feature aggregation of the ECG measurements by creating a new column of the average of ecg_i and ii called 'Mean_ecg'\n",
        "movement_data.insert(5, 'Mean_ecg', (movement_data['ecg_i'] + movement_data['ecg_ii']) / 2)\n",
        "# Display the DataFrame\n",
        "movement_data.head(n=2) # display first-two rows"
      ]
    },
    {
      "cell_type": "code",
      "execution_count": null,
      "id": "a9bceca4",
      "metadata": {
        "id": "a9bceca4"
      },
      "outputs": [],
      "source": [
        "# Drop other columns not needed for the input\n",
        "move_data=movement_data.drop(['ecg_i','ecg_ii','acc_LAsensor_X','acc_LAsensor_Y',\n",
        "                                       'acc_LAsensor_Z', 'gyro_LAsensor_X','gyro_LAsensor_Y','gyro_LAsensor_Z',\n",
        "                                       'magn_LAsensor_X','magn_LAsensor_Y','magn_LAsensor_Z',' acc_RLAsensor_X',\n",
        "                                       ' acc_RLAsensor_Y',' acc_RLAsensor_Z', 'gyro_RLAsensor_sensor_X',\n",
        "                                       ' gyro_RLAsensor_sensor_Y',' gyro_RLAsensor_sensor_Z','magn_RLAsensor_X',\n",
        "                                       'magn_RLAsensor_Y','magn_RLAsensor_Z','subject'],axis=1)\n",
        "# display dataframe\n",
        "move_data.head(n=2) # display first-two rows"
      ]
    },
    {
      "cell_type": "code",
      "execution_count": null,
      "id": "8504f379",
      "metadata": {
        "id": "8504f379"
      },
      "outputs": [],
      "source": [
        "# Check for missing values\n",
        "move_data.isna().sum(axis=0).to_frame('Total')"
      ]
    },
    {
      "cell_type": "code",
      "execution_count": null,
      "id": "220ae8b4",
      "metadata": {
        "id": "220ae8b4"
      },
      "outputs": [],
      "source": [
        "# Display the statistics of the dataframe\n",
        "move_data.describe().T"
      ]
    },
    {
      "cell_type": "markdown",
      "id": "565532dc",
      "metadata": {
        "id": "565532dc"
      },
      "source": [
        "- Filtering the training data"
      ]
    },
    {
      "cell_type": "code",
      "execution_count": null,
      "id": "8aee425a",
      "metadata": {
        "id": "8aee425a"
      },
      "outputs": [],
      "source": [
        "# Columns of the dataframe to apply filtering\n",
        "cols=['acc_CHsensor_X','acc_CHsensor_Y','acc_CHsensor_Z','Mean_ecg']\n",
        "# filtering the sensor signal from noise\n",
        "# low pass filtering > remove high frequency noise\n",
        "## Defining the low-pass filter parameters\n",
        "cutoff_freq = 20 # hz\n",
        "fs = 50  # hz\n",
        "nyquist_freq = 0.5 * fs\n",
        "n_order = 3 #filter_order\n",
        "# Designing the Butterworth filter\n",
        "b, a = butter(n_order , cutoff_freq/nyquist_freq, btype='low')\n",
        "# Applying the filter to the selected data_columns\n",
        "filtered_data = filtfilt(b, a,move_data[cols].values, axis=0)\n",
        "#assign the filtered data to the dataframe\n",
        "filtered_movement_data= pd.DataFrame(filtered_data, columns=cols) # put the filtered data to df\n",
        "filtered_movement_data[['classes']] = move_data[['classes']] # assign back the class labels and subject\n",
        "# Display the filtered DataFrame\n",
        "filtered_movement_data.head() # display first_five rows"
      ]
    },
    {
      "cell_type": "markdown",
      "id": "1e291fd0",
      "metadata": {
        "id": "1e291fd0"
      },
      "source": [
        "- Feature selection"
      ]
    },
    {
      "cell_type": "code",
      "execution_count": null,
      "id": "8d7a8ac7",
      "metadata": {
        "id": "8d7a8ac7"
      },
      "outputs": [],
      "source": [
        "# Selected features and class from the dataframe\n",
        "Features =filtered_movement_data.copy() #features/input\n",
        "Label = Features.pop('classes') # labels/output"
      ]
    },
    {
      "cell_type": "code",
      "execution_count": null,
      "id": "e627e825",
      "metadata": {
        "id": "e627e825"
      },
      "outputs": [],
      "source": [
        "# Display columns of the selected features (input)\n",
        "Features.columns"
      ]
    },
    {
      "cell_type": "markdown",
      "id": "aed254eb",
      "metadata": {
        "id": "aed254eb"
      },
      "source": [
        "- Data segmentation"
      ]
    },
    {
      "cell_type": "code",
      "execution_count": null,
      "id": "0d137acd",
      "metadata": {
        "id": "0d137acd"
      },
      "outputs": [],
      "source": [
        "# Creating a function for the sliding_window  ( this function would be applied to the training set_Mhealth and testing set_movesense data)\n",
        "#num_time_step: which specifies the length of each segment\n",
        "#step_size: which specifies the step size used to slide the window over the data\n",
        "def create_sequences(X, y, num_time_step, stepsize=1): # X:input y: output/target\n",
        "    segment, label = [],[]\n",
        "    for i in range(0,len(X) - num_time_step+1, stepsize):\n",
        "        x = X[i:i + num_time_step]\n",
        "        labels = y[i + num_time_step-1]\n",
        "        segment.append(x)\n",
        "        label.append(labels)\n",
        "    return np.array(segment), np.array(label)"
      ]
    },
    {
      "cell_type": "markdown",
      "id": "131f23aa",
      "metadata": {
        "id": "131f23aa"
      },
      "source": [
        "- Normalize the training data"
      ]
    },
    {
      "cell_type": "code",
      "execution_count": null,
      "id": "4ead0ff8",
      "metadata": {
        "id": "4ead0ff8"
      },
      "outputs": [],
      "source": [
        "# StandardScaler to normalize the input variables\n",
        "scaler = StandardScaler()\n",
        "# Normalize the training input\n",
        "X_train_normalized = scaler.fit_transform(Features)"
      ]
    },
    {
      "cell_type": "code",
      "execution_count": null,
      "id": "cdaa17a9",
      "metadata": {
        "id": "cdaa17a9"
      },
      "outputs": [],
      "source": [
        "# Creating the training sequence by applying the above create_sequences function\n",
        "X_train_seq,y_train_seq = create_sequences(X_train_normalized, Label, num_time_step=100, stepsize=50)\n",
        "print (X_train_seq.shape, y_train_seq.shape)"
      ]
    },
    {
      "cell_type": "code",
      "execution_count": null,
      "id": "3397f8c6",
      "metadata": {
        "id": "3397f8c6"
      },
      "outputs": [],
      "source": [
        "# Extract window_length,number of features, number of classes to be used in the input & ouput of the neural network\n",
        "window_length,num_features,num_classes= X_train_seq.shape[1], X_train_seq.shape[2],len(np.unique(y_train_seq))\n",
        "print(window_length,num_features,num_classes)"
      ]
    },
    {
      "cell_type": "markdown",
      "id": "a636431f",
      "metadata": {
        "id": "a636431f"
      },
      "source": [
        "- Configure the neural network"
      ]
    },
    {
      "cell_type": "code",
      "execution_count": null,
      "id": "6c822ffd",
      "metadata": {
        "id": "6c822ffd"
      },
      "outputs": [],
      "source": [
        "# Configuring >> CNN-1D_LSTM network architecture\n",
        "input_shape=(window_length,num_features)\n",
        "model= keras.Sequential([\n",
        "# Input layer\n",
        "     layers.Input(input_shape), #input\n",
        "     layers.Conv1D(filters=64, kernel_size=3, padding='same'),# CNN-1D layer 1\n",
        "     layers.BatchNormalization(),# batch_normalization\n",
        "     layers.Activation('relu'), # activation function\n",
        "\n",
        "# Hidden Conv Layer\n",
        "     layers.Conv1D(filters=64, kernel_size=3, padding='same'), # CNN-1D layer 2\n",
        "     layers.BatchNormalization(), # batch_normalization\n",
        "     layers.Activation('relu'),# activation function\n",
        "\n",
        "# Recurrent LSTM Layers\n",
        "     layers.LSTM(units=128, return_sequences=True), # LSTM layer 1\n",
        "     layers.Activation('relu'), # activation function\n",
        "     layers.LSTM(units=128,return_sequences=False), # LSTM layer 2\n",
        "     layers.Activation('relu'), # activation function\n",
        "\n",
        "# Dense layers\n",
        "     layers.Dense(128,activation=\"relu\"), # Dense layer 1\n",
        "# Activation function for the output 'softmax' for the Multi-classification\n",
        "     layers.Dense(num_classes, activation='softmax')]) # ouput of dense layer\n",
        "\n",
        "# Summary of the model configuration\n",
        "model.summary(line_length=None,\n",
        "              positions=None,\n",
        "              print_fn=None,\n",
        "              expand_nested=False,\n",
        "              show_trainable=False,\n",
        "              layer_range=None,\n",
        "             )"
      ]
    },
    {
      "cell_type": "markdown",
      "id": "973a27e6",
      "metadata": {
        "id": "973a27e6"
      },
      "source": [
        "- Compile the model"
      ]
    },
    {
      "cell_type": "code",
      "execution_count": null,
      "id": "cb5e95fa",
      "metadata": {
        "id": "cb5e95fa"
      },
      "outputs": [],
      "source": [
        "# Compiling the model\n",
        "initial_learning_rate =0.001\n",
        "lr_schedule = keras.optimizers.schedules.ExponentialDecay(\n",
        "    initial_learning_rate,\n",
        "    decay_steps=10,\n",
        "    decay_rate=0.9) #decay_rate/factor\n",
        "opt = keras.optimizers.RMSprop(learning_rate=lr_schedule) # optimizer\n",
        "model.compile(optimizer=opt, loss= keras.losses.SparseCategoricalCrossentropy(), metrics=[\"sparse_categorical_accuracy\"],)"
      ]
    },
    {
      "cell_type": "markdown",
      "id": "59283540",
      "metadata": {
        "id": "59283540"
      },
      "source": [
        "- Train the model"
      ]
    },
    {
      "cell_type": "code",
      "execution_count": null,
      "id": "c57d672c",
      "metadata": {
        "id": "c57d672c"
      },
      "outputs": [],
      "source": [
        "# Training of the subsets for 10 iterations/epochs\n",
        "history=model.fit(X_train_seq, y_train_seq,validation_split=0.1,epochs=10,batch_size=64)"
      ]
    },
    {
      "cell_type": "code",
      "execution_count": null,
      "id": "47888798",
      "metadata": {
        "id": "47888798"
      },
      "outputs": [],
      "source": [
        "# View the training history in pandas df\n",
        "train_history= pd.DataFrame(history.history)\n",
        "train_history #display history"
      ]
    },
    {
      "cell_type": "code",
      "execution_count": null,
      "id": "57727763",
      "metadata": {
        "id": "57727763"
      },
      "outputs": [],
      "source": [
        "# Training progress / session visualization\n",
        "# Training accuracy plotting\n",
        "plt.figure(figsize=(8, 7), dpi=75)\n",
        "plt.subplot(1, 2, 1)\n",
        "plt.plot(history.history['sparse_categorical_accuracy'],c='g') #plot accuracy\n",
        "plt.plot(history.history['val_sparse_categorical_accuracy'],c='g', linestyle='--' ) #plot val_acc\n",
        "plt.title('Training Accuracy')\n",
        "plt.ylabel('Accuracy')\n",
        "plt.xlabel('Epoch')\n",
        "plt.legend(['accuracy', 'val_accuracy'])\n",
        "# Training loss plotting\n",
        "plt.subplot(1, 2, 2)\n",
        "plt.plot(history.history['loss'],c='r') #plot loss\n",
        "plt.plot(history.history['val_loss'],c='r',linestyle='--') #plot val_loss\n",
        "plt.title('Training Loss')\n",
        "plt.ylabel('Loss')\n",
        "plt.xlabel('Epoch')\n",
        "plt.legend(['loss','val_loss'])\n",
        "#display plot\n",
        "plt.tight_layout()\n",
        "plt.show()"
      ]
    },
    {
      "cell_type": "markdown",
      "id": "74f9cc23",
      "metadata": {
        "id": "74f9cc23"
      },
      "source": [
        "- Evaluate the training session"
      ]
    },
    {
      "cell_type": "code",
      "execution_count": null,
      "id": "46ac0037",
      "metadata": {
        "id": "46ac0037"
      },
      "outputs": [],
      "source": [
        "# Training session evaluation of the model\n",
        "loss, accuracy =model.evaluate(X_train_seq,y_train_seq,verbose=0)\n",
        "print(f'Train loss: {loss:.4f}')\n",
        "print(f'\\nTrain accuracy: {accuracy:.4f}')"
      ]
    },
    {
      "cell_type": "code",
      "execution_count": null,
      "id": "5a8857e9",
      "metadata": {
        "id": "5a8857e9"
      },
      "outputs": [],
      "source": [
        "# Prediction on the train_data to get training classifications\n",
        "classify_train_data =model.predict(X_train_seq,verbose=0)\n",
        "classify_train_data= np.argmax(classify_train_data, axis=1)"
      ]
    },
    {
      "cell_type": "code",
      "execution_count": null,
      "id": "4d53f782",
      "metadata": {
        "id": "4d53f782"
      },
      "outputs": [],
      "source": [
        "# Create confusion matrix for the classifications on the training session\n",
        "cm = confusion_matrix(y_train_seq, classify_train_data)\n",
        "class_labels = ['null','Standing still','Sitting and relaxing','Lying down','Walking', 'Climbing stairs',\n",
        "                       'Waist bends forward', 'Frontal elevation of arms','Knees bending (crouching)', 'Cycling',\n",
        "                      'Jogging','Running','Jump front & back']\n",
        "# Plot the confusion matrix for the classification >training\n",
        "plt.figure(figsize=(12, 8),dpi=80)\n",
        "sns.heatmap(cm,fmt=\"d\",annot=True, cmap='Blues', xticklabels=class_labels, yticklabels=class_labels,linewidths = 0.1)\n",
        "plt.title('\\nConfusion Matrix : Classification-training', fontsize=14, fontweight='bold')  #title\n",
        "plt.xlabel('\\nPredicted Activities', fontsize=12, fontweight='bold') #x-axis label\n",
        "plt.ylabel('\\nActual Activities', fontsize=12, fontweight='bold') #y-axis label\n",
        "#display cm plot\n",
        "plt.show()"
      ]
    },
    {
      "cell_type": "markdown",
      "id": "230307f9",
      "metadata": {
        "id": "230307f9"
      },
      "source": [
        "# Load test data"
      ]
    },
    {
      "cell_type": "markdown",
      "id": "1281e2fb",
      "metadata": {
        "id": "1281e2fb"
      },
      "source": [
        "- Load the ECG dataset of the Movesense"
      ]
    },
    {
      "cell_type": "code",
      "execution_count": null,
      "id": "4cea4c28",
      "metadata": {
        "id": "4cea4c28"
      },
      "outputs": [],
      "source": [
        "# ecg files > load the ECG files from folder\n",
        "# files folder_location\n",
        "folder_path_ecg ='C:/Users/val-c/Desktop/movesense_lblled_rsp_ecg'\n",
        "# Get the list of all files in the folder_location\n",
        "file_list = os.listdir(folder_path_ecg)\n",
        "# Loop through the list of files and read them into pandas\n",
        "dataframes= []\n",
        "for file_name in file_list:\n",
        "    if file_name.endswith(\".csv\"):  # files in csv format\n",
        "        file_path = os.path.join(folder_path_ecg, file_name)\n",
        "        df = pd.read_csv(file_path)\n",
        "        dataframes.append(df)\n",
        "# Combine all the data_frame into one\n",
        "df_ecg = pd.concat(dataframes, ignore_index=True)\n",
        "df_ecg.head(n=5)# display dataframe for first-five rows"
      ]
    },
    {
      "cell_type": "code",
      "execution_count": null,
      "id": "7597453f",
      "metadata": {
        "id": "7597453f"
      },
      "outputs": [],
      "source": [
        "#display nos of row & columns\n",
        "#df_ecg.shape"
      ]
    },
    {
      "cell_type": "code",
      "execution_count": null,
      "id": "c645acd3",
      "metadata": {
        "id": "c645acd3"
      },
      "outputs": [],
      "source": [
        "# Save the merged DataFrame(df_ecg) to a CSV file\n",
        "#df_ecg.to_csv('ecg_file.csv', index=False)"
      ]
    },
    {
      "cell_type": "markdown",
      "id": "1c2c0f9a",
      "metadata": {
        "id": "1c2c0f9a"
      },
      "source": [
        "- Load the IMU dataset of the Movesense"
      ]
    },
    {
      "cell_type": "code",
      "execution_count": null,
      "id": "b62697aa",
      "metadata": {
        "id": "b62697aa"
      },
      "outputs": [],
      "source": [
        "# IMU files > load the IMU files from folder\n",
        "folder_path_imu ='C:/Users/val-c/Desktop/movesense_lblled_rsp_imu'\n",
        "# Get the list of all files in the folder_location\n",
        "file_list = os.listdir(folder_path_imu)\n",
        "# Loop via the list of files & read them into pd\n",
        "dataframes = []\n",
        "for file_name in file_list:\n",
        "    if file_name.endswith(\".csv\"):  # files in csv format\n",
        "        file_path = os.path.join(folder_path_imu, file_name)\n",
        "        df = pd.read_csv(file_path)\n",
        "        dataframes.append(df)\n",
        "# Combine all the data_frame into one\n",
        "df_imu = pd.concat(dataframes, ignore_index=True)\n",
        "df_imu.head(n=5)"
      ]
    },
    {
      "cell_type": "code",
      "execution_count": null,
      "id": "73ac04ca",
      "metadata": {
        "id": "73ac04ca"
      },
      "outputs": [],
      "source": [
        "# display nos of row & columns\n",
        "#df_imu.shape"
      ]
    },
    {
      "cell_type": "code",
      "execution_count": null,
      "id": "6f70cdde",
      "metadata": {
        "id": "6f70cdde"
      },
      "outputs": [],
      "source": [
        "# Save the merged DataFrame (df_imu) to a CSV file\n",
        "#df_imu.to_csv('imu_file.csv', index=False)"
      ]
    },
    {
      "cell_type": "markdown",
      "id": "759163c9",
      "metadata": {
        "id": "759163c9"
      },
      "source": [
        "- Load the combined file (ecg +imu)"
      ]
    },
    {
      "cell_type": "code",
      "execution_count": null,
      "id": "e6c664a1",
      "metadata": {
        "id": "e6c664a1"
      },
      "outputs": [],
      "source": [
        "# Import the combined file (imu + ecg) of the movesense, performed on microsoft excel\n",
        "file='C:/Users/val-c/Desktop/combined_file.csv'\n",
        "combined_data=pd.read_csv(file)\n",
        "combined_data"
      ]
    },
    {
      "cell_type": "code",
      "execution_count": null,
      "id": "1ad757aa",
      "metadata": {
        "id": "1ad757aa"
      },
      "outputs": [],
      "source": [
        "# conversion of the ecg sample to mV\n",
        "## defining vaiables below:\n",
        "peak_to_peak_volt = 60  # dynamic range/full-scale input voltage in mV\n",
        "digital_resolution = 15  # resolution\n",
        "full_scale_digital_value = 2 ** digital_resolution  # number of steps in the digital output\n",
        "full_scale_input_volt = peak_to_peak_volt / 2  # average voltage level in mV\n",
        "digital_output_value = combined_data['sample']  # digital output values of ECG measurements\n",
        "# Convert digital output values to mV\n",
        "combined_data.insert(3, 'ecg_mV', (digital_output_value / full_scale_digital_value) * full_scale_input_volt) #put the new field to index position\n",
        "# Display the df\n",
        "combined_data.head()"
      ]
    },
    {
      "cell_type": "code",
      "execution_count": null,
      "id": "60867815",
      "metadata": {
        "id": "60867815"
      },
      "outputs": [],
      "source": [
        "# drop 'gx','gy','gz', 'sample' columns\n",
        "combined_data=combined_data.drop(['gx','gy','gz','sample'],axis=1)\n",
        "combined_data # display dataframe"
      ]
    },
    {
      "cell_type": "code",
      "execution_count": null,
      "id": "d9908e51",
      "metadata": {
        "id": "d9908e51"
      },
      "outputs": [],
      "source": [
        "# check for missing values (NaN)\n",
        "missing_value_count =combined_data.isnull().sum()\n",
        "missing_value_count # display the nos of missing values in the columns"
      ]
    },
    {
      "cell_type": "code",
      "execution_count": null,
      "id": "a28f60bb",
      "metadata": {
        "id": "a28f60bb"
      },
      "outputs": [],
      "source": [
        "# Creating a new DataFrame with desired column order for acceleration measurements and introduce negative signs\n",
        "combined_data_new = combined_data[['y', 'z', 'x','ecg_mV','classes']].copy()\n",
        "combined_data_new[['y', 'z', 'x']] = -combined_data_new[['y', 'z', 'x']] # desired column order to match the training features > x,y,z columns\n",
        "# Display the modified DataFrame for the first-five rows\n",
        "combined_data_new.head()"
      ]
    },
    {
      "cell_type": "code",
      "execution_count": null,
      "id": "ecd960d0",
      "metadata": {
        "id": "ecd960d0"
      },
      "outputs": [],
      "source": [
        "# display info of the combined file\n",
        "combined_data_new.info()"
      ]
    },
    {
      "cell_type": "code",
      "execution_count": null,
      "id": "3cf22e38",
      "metadata": {
        "id": "3cf22e38"
      },
      "outputs": [],
      "source": [
        "# Statistics of the test data dataframe\n",
        "combined_data_new.describe().T"
      ]
    },
    {
      "cell_type": "markdown",
      "id": "3d25c1c1",
      "metadata": {
        "id": "3d25c1c1"
      },
      "source": [
        "- Data visualization of the movesense measurements ( acc. & ecg)"
      ]
    },
    {
      "cell_type": "code",
      "execution_count": null,
      "id": "a2caddf5",
      "metadata": {
        "id": "a2caddf5"
      },
      "outputs": [],
      "source": [
        "activity_map_imu = {1:'Standing still(1 min)',2:'Sitting and relaxing (1 min)',3:'Lying down (1 min)',4:'Walking (1 min)',\n",
        "    5: 'Climbing stairs (1 min)',6:'Waist bends forward (20x)',7:'Frontal elevation of arms (20x)',\n",
        "    8:'Knees bending (crouching) (20x)',9:'Cycling', 10:'Jogging (1 min)',11:'Running (1 min)',12:'Jump front & back (20x)'}\n",
        "\n",
        "fig, axes = plt.subplots(6,2, figsize=(15, 15), dpi=100) # defining axes and figure size\n",
        "\n",
        "# plot the acceleration for the different activities performed with the movesense device\n",
        "for i, ax in zip(activity_map_imu.keys(), axes.flat):\n",
        "    ax.plot(combined_data_new[combined_data_new['classes']==i].reset_index(drop=True)['y'], c='r', alpha=.9, label='acc. y')\n",
        "    ax.plot(combined_data_new[combined_data_new['classes']==i].reset_index(drop=True)['z'], c='b', alpha=.9, label='acc. z')\n",
        "    ax.plot(combined_data_new[combined_data_new['classes']==i].reset_index(drop=True)['x'], c='y', alpha=.9, label='acc. x')\n",
        "    ax.set_xlabel('\\nSample points', fontsize=10) #x_label\n",
        "    ax.set_ylabel('\\nAcceleration (m/s^2)', fontsize=10)  #y_label\n",
        "    ax.set_title(f'\\n{activity_map_imu[i]} - Movesense dataset', fontsize=11) # title\n",
        "    ax.legend(loc=\"upper left\", fontsize=9)\n",
        "\n",
        "# display plots\n",
        "plt.tight_layout()\n",
        "plt.show()"
      ]
    },
    {
      "cell_type": "code",
      "execution_count": null,
      "id": "38e7441d",
      "metadata": {
        "id": "38e7441d"
      },
      "outputs": [],
      "source": [
        "activity_map_ecg = {1:'Standing still (1 min)',2:'Sitting and relaxing (1 min)',3:'Lying down (1 min)',4:'Walking (1 min)',\n",
        "    5: 'Climbing stairs (1 min)',6:'Waist bends forward (20x)',7:'Frontal elevation of arms (20x)',\n",
        "    8:'Knees bending (crouching) (20x)',9:'Cycling',  10:'Jogging (1 min)',11:'Running (1 min)',12:'Jump front & back (20x)'}\n",
        "# plot the ecg for the different activities performed with the movesense device\n",
        "fig, axs = plt.subplots(6, 2, figsize=(15, 15), dpi=100) # defining axes and figure size\n",
        "for i, ax in zip(activity_map_ecg.keys(), axs.flat):\n",
        "# Plot data\n",
        "    ax.plot(combined_data_new[combined_data_new['classes']==i].reset_index(drop=True)['ecg_mV'], c='r', alpha=.9, label='ECG sample')\n",
        "    ax.set_xlabel('\\nSample points', fontsize=10)# x_label\n",
        "    ax.set_ylabel('\\nAmplitude (mV)', fontsize=10) # y_label\n",
        "    ax.set_title(f'\\n{activity_map_ecg[i]} - Movesense dataset', fontsize=11)\n",
        "    ax.legend(fontsize=9,loc=\"upper left\")\n",
        "#display plot\n",
        "plt.tight_layout()\n",
        "plt.show()"
      ]
    },
    {
      "cell_type": "markdown",
      "id": "41dbc815",
      "metadata": {
        "id": "41dbc815"
      },
      "source": [
        "- Filtering the testing data"
      ]
    },
    {
      "cell_type": "code",
      "execution_count": null,
      "id": "c402211f",
      "metadata": {
        "id": "c402211f"
      },
      "outputs": [],
      "source": [
        "# Columns of the dataframe to apply filtering\n",
        "col=['y','z','x','ecg_mV']\n",
        "# filtering the sensor signal from noise\n",
        "# low pass filtering > remove high frequency noise\n",
        "## Defining the low-pass filter parameters\n",
        "cutoff_freq = 20 # hz\n",
        "fs = 50  # hz\n",
        "nyquist_freq = 0.5 * fs\n",
        "n_order = 3 #filter_order\n",
        "# Designing the Butterworth filter\n",
        "b, a = butter(n_order , cutoff_freq/nyquist_freq, btype='low')\n",
        "# Applying the filter to the data_columns\n",
        "filtered_data = filtfilt(b, a,combined_data_new[col].values, axis=0)\n",
        "combined_data_new[col] = filtered_data #replace the filtered data to the original column\n",
        "# display df of the filtered data\n",
        "combined_data_new[col].head()"
      ]
    },
    {
      "cell_type": "code",
      "execution_count": null,
      "id": "c048e0a5",
      "metadata": {
        "id": "c048e0a5"
      },
      "outputs": [],
      "source": [
        "# Assign back the 'classes' column\n",
        "combined_data_new['classes'] = combined_data_new['classes']\n",
        "combined_data_new.head()"
      ]
    },
    {
      "cell_type": "markdown",
      "id": "c6db568a",
      "metadata": {
        "id": "c6db568a"
      },
      "source": [
        "- Feature selection"
      ]
    },
    {
      "cell_type": "code",
      "execution_count": null,
      "id": "5d1c3186",
      "metadata": {
        "id": "5d1c3186"
      },
      "outputs": [],
      "source": [
        "# Feature selected (y,z,x,ecg_mV) and label of the test data\n",
        "_feature_ = combined_data_new.copy() #features /input\n",
        "_label_ = _feature_.pop('classes') # labels/output\n",
        "# display feature and label shape\n",
        "_feature_.shape , _label_.shape"
      ]
    },
    {
      "cell_type": "code",
      "execution_count": null,
      "id": "dc3c19fd",
      "metadata": {
        "id": "dc3c19fd"
      },
      "outputs": [],
      "source": [
        "# Display columns of the features (test data)\n",
        "_feature_.columns"
      ]
    },
    {
      "cell_type": "markdown",
      "id": "a45a7c83",
      "metadata": {
        "id": "a45a7c83"
      },
      "source": [
        "- Normalize the data"
      ]
    },
    {
      "cell_type": "code",
      "execution_count": null,
      "id": "ca6533f7",
      "metadata": {
        "id": "ca6533f7"
      },
      "outputs": [],
      "source": [
        "# Creating an instance of StandardScaler to normalize the test_data (input)\n",
        "scaler = StandardScaler()\n",
        "# Fit and transform the feature variables\n",
        "feature_scaled = scaler.fit_transform(_feature_)"
      ]
    },
    {
      "cell_type": "markdown",
      "id": "81934f87",
      "metadata": {
        "id": "81934f87"
      },
      "source": [
        "- Apply data segmentation function to test data"
      ]
    },
    {
      "cell_type": "code",
      "execution_count": null,
      "id": "94be1144",
      "metadata": {
        "id": "94be1144"
      },
      "outputs": [],
      "source": [
        "# Creating the testing_data sequence using the already defined function initially\n",
        "X_test_seq,y_test_seq = create_sequences(feature_scaled, _label_, num_time_step=100,stepsize=50)\n",
        "print (X_test_seq.shape, y_test_seq.shape)"
      ]
    },
    {
      "cell_type": "markdown",
      "id": "d8cf2b45",
      "metadata": {
        "id": "d8cf2b45"
      },
      "source": [
        "- Evaluate the model on the test data"
      ]
    },
    {
      "cell_type": "code",
      "execution_count": null,
      "id": "53565fba",
      "metadata": {
        "id": "53565fba"
      },
      "outputs": [],
      "source": [
        "# Model evaluation on the movesense_test_data to ascertain the trained model's performance\n",
        "loss, accuracy =model.evaluate(X_test_seq,y_test_seq,verbose=0)\n",
        "print(f'Test loss: {loss:.4f}')\n",
        "print(f'\\nTest accuracy: {accuracy:.4f}')"
      ]
    },
    {
      "cell_type": "code",
      "execution_count": null,
      "id": "b6dc6625",
      "metadata": {
        "id": "b6dc6625"
      },
      "outputs": [],
      "source": [
        "# Prediction testing on the test_data to get classification result\n",
        "classify_test_data =model.predict(X_test_seq,verbose=0)\n",
        "classify_test_data= np.argmax(classify_test_data, axis=1)"
      ]
    },
    {
      "cell_type": "code",
      "execution_count": null,
      "id": "60ba1531",
      "metadata": {
        "id": "60ba1531"
      },
      "outputs": [],
      "source": [
        "# Create confusion matrix for the classifications > test data (acceleration + ECG)\n",
        "cm = confusion_matrix(y_test_seq, classify_test_data)\n",
        "class_labels  = ['Null','Standing still','Sitting and relaxing','Lying down','Walking', 'Climbing stairs',\n",
        "                       'Waist bends forward', 'Frontal elevation of arms','Knees bending (crouching)','Cycling',\n",
        "                      'Jogging','Running','Jump front & back' ] #'Null'\n",
        "# Plot the confusion matrix for the classification >> test data\n",
        "plt.figure(figsize=(12, 9),dpi=75)\n",
        "sns.heatmap(cm,fmt=\"d\",annot=True, cmap='Blues', xticklabels=class_labels, yticklabels=class_labels,linewidths = 0.1)\n",
        "plt.title('\\nConfusion Matrix : Classification-testing', fontsize=14, fontweight='bold')  #title\n",
        "plt.xlabel('\\nPredicted Activities', fontsize=12, fontweight='bold') #x-axis label\n",
        "plt.ylabel('\\nActual Activities', fontsize=12, fontweight='bold') #y-axis label\n",
        "#display cm plot\n",
        "plt.show()"
      ]
    },
    {
      "cell_type": "markdown",
      "id": "096699de",
      "metadata": {
        "id": "096699de"
      },
      "source": [
        "- Comparison plot between the training data(Mhealth) and the test data (Movesense)"
      ]
    },
    {
      "cell_type": "code",
      "execution_count": null,
      "id": "a1ba4fb6",
      "metadata": {
        "id": "a1ba4fb6"
      },
      "outputs": [],
      "source": [
        "# Performed activities >>\n",
        "# To be used for for 1min/20x\n",
        "activity_map = {1:'Standing still (1 min)',2:'Sitting and relaxing (1 min)',3:'Lying down (1 min)',\n",
        "                    4:'Walking (1 min)', 5: 'Climbing stairs (1 min)',6:'Waist bends forward (20x)',\n",
        "                    7:'Frontal elevation of arms (20x)',8:'Knees bending (crouching) (20x)',9:'Cycling (1 min)',\n",
        "                    10:'Jogging (1 min)',11:'Running (1 min)',12:'Jump front & back (20x)'}\n",
        "\n",
        "# To be used for 100 to 500 samples plot\n",
        "_activity_map_ = {1:'Standing still',2:'Sitting and relaxing',3:'Lying down',4:'Walking',\n",
        "                      5:'Climbing stairs',6:'Waist bends forward',7:'Frontal elevation of arms',\n",
        "                      8:'Knees bending (crouching)',9:'Cycling',10:'Jogging',11:'Running',\n",
        "                      12:'Jump front & back'}"
      ]
    },
    {
      "cell_type": "code",
      "execution_count": null,
      "id": "fdfca639",
      "metadata": {
        "scrolled": false,
        "id": "fdfca639"
      },
      "outputs": [],
      "source": [
        "# Plot the activities performed for both mhealth and movesense datasets\n",
        "fig, axs = plt.subplots(len(activity_map), 2, figsize=(12, 4 * len(activity_map)))\n",
        "# Plot the acceleration measurement performed for the movesense dataset\n",
        "for i, activity_id in enumerate(activity_map.keys()):\n",
        "    axs[i, 1].plot(combined_data_new[combined_data_new['classes'] == activity_id].reset_index(drop=True)['y'], c='r', alpha=0.7, label='acc. y')\n",
        "    axs[i, 1].plot(combined_data_new[combined_data_new['classes'] == activity_id].reset_index(drop=True)['z'], c='b', alpha=0.7, label='acc. z')\n",
        "    axs[i, 1].plot(combined_data_new[combined_data_new['classes'] == activity_id].reset_index(drop=True)['x'], c='y', alpha=0.7, label='acc. x')\n",
        "    axs[i, 1].set_xlabel('Sample points', fontsize=9.5)  # X label\n",
        "    axs[i, 1].set_ylabel('Acceleration (m/s^2)', fontsize=10)  # Y label\n",
        "    axs[i, 1].set_title(f'{activity_map[activity_id]} - Movesense Dataset', fontsize=11)  # Title\n",
        "    axs[i, 1].legend(loc='upper left', fontsize=9)\n",
        "\n",
        "# plot the chest_accleration for a subject chosen from the list of subjects for the activities of 1min/20x\n",
        "## select a subject from the list of subjects in the experiment\n",
        "filtered_movement_data['subject'] = movement_data['subject'] # add the subject column to the filtered data\n",
        "subject = filtered_movement_data[filtered_movement_data['subject'] == 'subject_f'] #subject_f=subject-6\n",
        "readings = ['acc']\n",
        "for i, activity_id in enumerate(activity_map.keys()):\n",
        "    for r in readings:\n",
        "        if r == 'acc':\n",
        "            # Plot the activities\n",
        "            axs[i, 0].plot(subject[subject['classes'] == activity_id].reset_index(drop=True)[r + '_CHsensor_X'], color='r', alpha=0.7)\n",
        "            axs[i, 0].plot(subject[subject['classes'] == activity_id].reset_index(drop=True)[r + '_CHsensor_Y'], color='b', alpha=0.7)\n",
        "            axs[i, 0].plot(subject[subject['classes'] == activity_id].reset_index(drop=True)[r + '_CHsensor_Z'], color='y', alpha=0.7)\n",
        "            axs[i, 0].set_title(f'{activity_map[activity_id]} - MHEALTH Dataset', fontsize=11)\n",
        "            axs[i, 0].set_ylabel('\\nAcceleration (m/s^2)', fontsize=10)\n",
        "            axs[i, 0].set_xlabel('Sample points', fontsize=9.5)\n",
        "            axs[i, 0].legend([\"acc. x\", \"acc. y\", \"acc. z\"], fontsize=9, loc=\"upper left\")\n",
        "#display plots\n",
        "plt.tight_layout()\n",
        "plt.show()"
      ]
    },
    {
      "cell_type": "code",
      "execution_count": null,
      "id": "f1b31dc1",
      "metadata": {
        "scrolled": false,
        "id": "f1b31dc1"
      },
      "outputs": [],
      "source": [
        "# Plot and display peformed activities \"after filtering has been done\" on the datasets (mhealth and movesense measurements)\n",
        "# create a plot for the acceleration measurements for the Movesense dataset 100 to 500 samples to the re-ordered columns\n",
        "fig, axs = plt.subplots(len(_activity_map_), 2, figsize=(12,4 * len(_activity_map_)))\n",
        "\n",
        "for idx, i in enumerate(_activity_map_.keys()):\n",
        "    data_subset = combined_data_new[combined_data_new['classes'] == i].reset_index(drop=True)[100:501]  # select samples 100 to 500\n",
        "    axs[idx, 1].plot(data_subset['y'], c='r', alpha=0.9, label='acc. y')  # acc.y\n",
        "    axs[idx, 1].plot(data_subset['z'], c='b', alpha=0.9, label='acc. z')  # acc.z\n",
        "    axs[idx, 1].plot(data_subset['x'], c='y', alpha=0.9, label='acc. x')  # acc.x\n",
        "    axs[idx, 1].set_xlabel('Sample points', fontsize=9.5)  # x_label\n",
        "    axs[idx, 1].set_ylabel('Acceleration (m/s^2)', fontsize=10)  # y_label\n",
        "    axs[idx, 1].set_title(f'{_activity_map_[i]} -  Movesense Dataset', fontsize=11)  # title\n",
        "    axs[idx, 1].legend(loc='upper left', fontsize=9)\n",
        "\n",
        "# Select a subject from the list of subjects in the experiment\n",
        "subject = filtered_movement_data[filtered_movement_data['subject'] == 'subject_f']\n",
        "readings = ['acc']\n",
        "# Plot the acceleration measurements for the Mhealth datasets for samples 100 to 500\n",
        "for idx, (activity_id, activity_name) in enumerate(_activity_map_.items()):\n",
        "    for r in readings:\n",
        "        # acceleration chest sensor activity\n",
        "        if r == 'acc':\n",
        "            data_subset = subject[subject['classes'] == activity_id].reset_index(drop=True)[100:501]  # Select samples 100 to 500\n",
        "            axs[idx, 0].plot(data_subset[r + '_CHsensor_X'], color='r', alpha=0.9)  # plot acc.x\n",
        "            axs[idx, 0].plot(data_subset[r + '_CHsensor_Y'], color='b', alpha=0.9)  # plot acc.y\n",
        "            axs[idx, 0].plot(data_subset[r + '_CHsensor_Z'], color='y', alpha=0.9)  # plot acc.z\n",
        "            axs[idx, 0].set_title(f'{activity_name} - MHEALTH Dataset', fontsize=11)  # title\n",
        "            axs[idx, 0].set_ylabel('\\nAcceleration (m/s^2)', fontsize=10)  # y_label\n",
        "            axs[idx, 0].set_xlabel('Sample points', fontsize=9.5)  # x_label\n",
        "            axs[idx, 0].legend([\"acc. x\", \"acc. y\", \"acc. z\"], fontsize=9, loc=\"upper left\")\n",
        "# Display plots\n",
        "plt.tight_layout()\n",
        "plt.show()"
      ]
    },
    {
      "cell_type": "code",
      "execution_count": null,
      "id": "1051acee",
      "metadata": {
        "scrolled": false,
        "id": "1051acee"
      },
      "outputs": [],
      "source": [
        "# Plot the activities performed for both mhealth and movesense datasets >1min/20x\n",
        "fig, axs = plt.subplots(len(activity_map), 2, figsize=(12, 4 * len(activity_map)))\n",
        "# Plot the ecg measurement performed activities for the movesense dataset\n",
        "for i, activity_id in enumerate(activity_map.keys()):\n",
        "    axs[i, 1].plot(combined_data_new[combined_data_new['classes'] == activity_id].reset_index(drop=True)['ecg_mV'], c='r', alpha=0.7, label='ECG Sample')\n",
        "    axs[i, 1].set_xlabel('Sample points', fontsize=9.5)  # X label\n",
        "    axs[i, 1].set_ylabel('Amplitude (mV)', fontsize=10)  # Y label\n",
        "    axs[i, 1].set_title(f'{activity_map[activity_id]} - Movesense Dataset', fontsize=11)  # Title\n",
        "    axs[i, 1].legend(loc='upper left', fontsize=9)\n",
        "\n",
        "# plot the ecg for a subject chosen from the list of subjects for the activities of 1min/20x for'mean_ecg column'\n",
        "## select a subject from the list of subjects in the experiment\n",
        "subject = filtered_movement_data[filtered_movement_data['subject'] == 'subject_f'] #subject_f=subject-6\n",
        "readings = ['Mean']\n",
        "for i, activity_id in enumerate(activity_map.keys()):\n",
        "    for r in readings:\n",
        "        if r == 'Mean':\n",
        "            # Plot the activities\n",
        "            axs[i, 0].plot(subject[subject['classes'] == activity_id].reset_index(drop=True)[r + '_ecg'], c='purple', alpha=0.7)\n",
        "            axs[i, 0].set_title(f'{activity_map[activity_id]} - MHEALTH Dataset', fontsize=11)\n",
        "            axs[i, 0].set_ylabel('\\nAmplitude (mV)', fontsize=10)\n",
        "            axs[i, 0].set_xlabel('Sample points', fontsize=9.5)\n",
        "            axs[i, 0].legend([\"Mean of ECG Lead 1 & 2\"], fontsize=9, loc=\"upper left\")\n",
        "# Display plots\n",
        "plt.tight_layout()\n",
        "plt.show()"
      ]
    },
    {
      "cell_type": "code",
      "execution_count": null,
      "id": "ff328942",
      "metadata": {
        "scrolled": false,
        "id": "ff328942"
      },
      "outputs": [],
      "source": [
        "# Plot for 100 to 500 samples\n",
        "fig, axs = plt.subplots(len(_activity_map_), 2, figsize=(12, 4 * len(_activity_map_)))\n",
        "# Plot the ecg activites performed for the movesense dataset\n",
        "for i, activity_id in enumerate(_activity_map_.keys()):\n",
        "    axs[i, 1].plot(combined_data_new[combined_data_new['classes'] == activity_id].reset_index(drop=True)['ecg_mV'][100:501], c='r', alpha=0.7, label='ECG Sample')\n",
        "    axs[i, 1].set_xlabel('Sample points', fontsize=9.5)  # X label\n",
        "    axs[i, 1].set_ylabel('Amplitude (mV)', fontsize=10)  # Y label\n",
        "    axs[i, 1].set_title(f'{_activity_map_[activity_id]} - Movesense Dataset', fontsize=11)  # Title\n",
        "    axs[i, 1].legend(loc='upper left', fontsize=9)\n",
        "\n",
        "# Select a subject from the list of subjects in the experiment for the 'mean_ecg column'\n",
        "subject = filtered_movement_data[filtered_movement_data['subject'] == 'subject_f'] #subject_f=subject-6\n",
        "readings = ['Mean']\n",
        "for i, activity_id in enumerate(_activity_map_.keys()):\n",
        "    for r in readings:\n",
        "        if r == 'Mean':\n",
        "            # Plot the ecg activities from Mhealth dataset\n",
        "            axs[i, 0].plot(subject[subject['classes'] == activity_id].reset_index(drop=True)[r + '_ecg'][100:501], color='purple', alpha=0.7)\n",
        "            axs[i, 0].set_title(f'{_activity_map_[activity_id]} - MHEALTH Dataset', fontsize=11)\n",
        "            axs[i, 0].set_ylabel('\\nAmplitude (mV)', fontsize=10)\n",
        "            axs[i, 0].set_xlabel('Sample points', fontsize=9.5)\n",
        "            axs[i, 0].legend([\"Mean of ECG Lead 1 & 2\"], fontsize=9, loc=\"upper left\")\n",
        "\n",
        "# Display plots\n",
        "plt.tight_layout()\n",
        "plt.show()"
      ]
    },
    {
      "cell_type": "code",
      "execution_count": null,
      "id": "99808e16",
      "metadata": {
        "id": "99808e16"
      },
      "outputs": [],
      "source": []
    }
  ],
  "metadata": {
    "kernelspec": {
      "display_name": "Python 3 (ipykernel)",
      "language": "python",
      "name": "python3"
    },
    "language_info": {
      "codemirror_mode": {
        "name": "ipython",
        "version": 3
      },
      "file_extension": ".py",
      "mimetype": "text/x-python",
      "name": "python",
      "nbconvert_exporter": "python",
      "pygments_lexer": "ipython3",
      "version": "3.9.12"
    },
    "colab": {
      "provenance": []
    }
  },
  "nbformat": 4,
  "nbformat_minor": 5
}