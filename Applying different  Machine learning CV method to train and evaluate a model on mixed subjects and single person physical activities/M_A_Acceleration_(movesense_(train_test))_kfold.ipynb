{
  "cells": [
    {
      "cell_type": "markdown",
      "id": "7daa134a",
      "metadata": {
        "id": "7daa134a"
      },
      "source": [
        "- Training and Testing with IMU-(Acceleration) measurements (Movesense dataset)\n"
      ]
    },
    {
      "cell_type": "code",
      "execution_count": null,
      "id": "603f2e74",
      "metadata": {
        "id": "603f2e74"
      },
      "outputs": [],
      "source": [
        "# Importing libraries\n",
        "import pandas as pd\n",
        "import seaborn as sns\n",
        "import numpy as np\n",
        "import os\n",
        "import matplotlib.pyplot as plt\n",
        "%matplotlib inline\n",
        "from keras import layers\n",
        "import keras\n",
        "from keras.utils import to_categorical\n",
        "from sklearn.preprocessing import StandardScaler\n",
        "from sklearn.model_selection import KFold\n",
        "from sklearn.metrics import accuracy_score, confusion_matrix\n",
        "from scipy.signal import butter, filtfilt\n",
        "import warnings\n",
        "warnings.filterwarnings('ignore')"
      ]
    },
    {
      "cell_type": "code",
      "execution_count": null,
      "id": "dd042e8a",
      "metadata": {
        "id": "dd042e8a"
      },
      "outputs": [],
      "source": [
        "# load the labelled movensense dataset\n",
        "folder_path_imu ='C:/Users/val-c/Desktop/movesense_lblled_imu'\n",
        "# Get the list of all files in the folder_location\n",
        "file_list = os.listdir(folder_path_imu)\n",
        "# Loop via the list of files & read them into pd\n",
        "dataframes = []\n",
        "for file_name in file_list:\n",
        "    if file_name.endswith(\".csv\"):  # files in csv format\n",
        "        file_path = os.path.join(folder_path_imu, file_name)\n",
        "        df = pd.read_csv(file_path)\n",
        "        dataframes.append(df)\n",
        "# Combine all the data_frame into one\n",
        "movement_data = pd.concat(dataframes, ignore_index=True)\n",
        "movement_data.head(n=5) # display first-five rows"
      ]
    },
    {
      "cell_type": "code",
      "execution_count": null,
      "id": "ca5b66ba",
      "metadata": {
        "id": "ca5b66ba"
      },
      "outputs": [],
      "source": [
        "# Drop the gyroscope measurements from the dataframe\n",
        "movement_data=movement_data.drop(['gx','gy','gz'],axis=1)"
      ]
    },
    {
      "cell_type": "code",
      "execution_count": null,
      "id": "66baa494",
      "metadata": {
        "id": "66baa494"
      },
      "outputs": [],
      "source": [
        "# Display info of the dataframe\n",
        "movement_data.info()"
      ]
    },
    {
      "cell_type": "code",
      "execution_count": null,
      "id": "f1ad366c",
      "metadata": {
        "id": "f1ad366c"
      },
      "outputs": [],
      "source": [
        "# Check for missing values\n",
        "movement_data.isna().sum(axis=0).to_frame('Total')"
      ]
    },
    {
      "cell_type": "code",
      "execution_count": null,
      "id": "01bb451e",
      "metadata": {
        "id": "01bb451e"
      },
      "outputs": [],
      "source": [
        "# Class labels in the dataframe (df)\n",
        "unique_label = np.unique(movement_data.classes)\n",
        "class_label = np.sort(unique_label)\n",
        "print(class_label)"
      ]
    },
    {
      "cell_type": "code",
      "execution_count": null,
      "id": "3784b109",
      "metadata": {
        "id": "3784b109"
      },
      "outputs": [],
      "source": [
        "# Plot the number of samples present in each class_label\n",
        "class_label = ['Standing still','Sitting and relaxing','Lying down','Walking', 'Climbing stairs',\n",
        "               'Waist bends forward', 'Frontal elevation of arms','Knees bending (crouching)',\n",
        "               'Cycling','Jogging','Running','Jump front & back']\n",
        "plt.figure(figsize=(6, 6)) # figure sizing\n",
        "num_of_classes = len(class_label)\n",
        "# Creating barplot for the activitiy distribution in the df\n",
        "sns.barplot(x=class_label, y=movement_data[\"classes\"].value_counts(), color='k', width=0.7)\n",
        "# Replace the numerical x-axis ticks with class labels\n",
        "plt.xticks(range(num_of_classes), class_label, rotation=45, ha='right')\n",
        "# the x-axis and y-axis labels, title\n",
        "plt.xlabel('\\nClasses', fontsize=10)\n",
        "plt.ylabel('\\nCount', fontsize=10)\n",
        "plt.title(\"\\n Activity distribution of the movesense dataset\", fontsize=12)\n",
        "#display plot\n",
        "plt.tight_layout()\n",
        "plt.show()"
      ]
    },
    {
      "cell_type": "code",
      "execution_count": null,
      "id": "bca79366",
      "metadata": {
        "id": "bca79366"
      },
      "outputs": [],
      "source": [
        "# Statistics of the dataframe\n",
        "movement_data.describe().T"
      ]
    },
    {
      "cell_type": "code",
      "execution_count": null,
      "id": "725cccf7",
      "metadata": {
        "id": "725cccf7"
      },
      "outputs": [],
      "source": [
        "# Data filtering\n",
        "# Columns of the dataframe to apply filtering\n",
        "cols=['x', 'y', 'z']\n",
        "# filtering the sensor signal from noise\n",
        "# low pass filtering > remove high frequency noise\n",
        "## Defining the low-pass filter parameters\n",
        "cutoff_freq = 20 # hz\n",
        "fs = 52  # sampling rate (Hz)\n",
        "nyquist_freq = 0.5 * fs\n",
        "n_order = 3 #filter_order\n",
        "# Designing the Butterworth filter\n",
        "b, a = butter(n_order , cutoff_freq/nyquist_freq, btype='low')\n",
        "# Applying the filter to the selected data_columns\n",
        "filtered_data = filtfilt(b, a,movement_data[cols].values, axis=0)\n",
        "#assign the filtered data to the dataframe\n",
        "filtered_movement_data= pd.DataFrame(filtered_data, columns=cols) # put the filtered data to df\n",
        "filtered_movement_data['classes'] = movement_data['classes'] # assign back the labels\n",
        "# Display the filtered DataFrame\n",
        "filtered_movement_data.head() # display first_five rows"
      ]
    },
    {
      "cell_type": "code",
      "execution_count": null,
      "id": "ddb34a12",
      "metadata": {
        "id": "ddb34a12"
      },
      "outputs": [],
      "source": [
        "# features and class from the dataframe\n",
        "Features =filtered_movement_data.copy() #features/input\n",
        "Label = Features.pop('classes') # class_labels/output"
      ]
    },
    {
      "cell_type": "code",
      "execution_count": null,
      "id": "8e7176a2",
      "metadata": {
        "id": "8e7176a2"
      },
      "outputs": [],
      "source": [
        "# Normalize the input variables\n",
        "scaler = StandardScaler()\n",
        "normalized_feature = scaler.fit_transform(Features)"
      ]
    },
    {
      "cell_type": "code",
      "execution_count": null,
      "id": "b40d48eb",
      "metadata": {
        "id": "b40d48eb"
      },
      "outputs": [],
      "source": [
        "# Data-Segmentation\n",
        "# Creating a function for the sliding_window\n",
        "#num_time_step: which specifies the length of each segment\n",
        "#step_size: which specifies the step size used to slide the window over the data\n",
        "def create_sequences(X, y, num_time_step, stepsize=1): # X:input y: output/target\n",
        "    segment, label = [],[]\n",
        "    for i in range(0,len(X) - num_time_step+1, stepsize):\n",
        "        x = X[i:i + num_time_step]\n",
        "        labels = y[i + num_time_step-1]\n",
        "        segment.append(x)\n",
        "        label.append(labels)\n",
        "    return np.array(segment), np.array(label)"
      ]
    },
    {
      "cell_type": "code",
      "execution_count": null,
      "id": "e4072d07",
      "metadata": {
        "id": "e4072d07"
      },
      "outputs": [],
      "source": [
        "# Creating the data sequence\n",
        "X_seq, y_seq = create_sequences(normalized_feature, Label ,num_time_step=104, stepsize=52)\n",
        "# print shape of the data\n",
        "print(X_seq.shape, y_seq.shape)"
      ]
    },
    {
      "cell_type": "code",
      "execution_count": null,
      "id": "304eca7e",
      "metadata": {
        "id": "304eca7e"
      },
      "outputs": [],
      "source": [
        "# Extract window_length,number of features, number of outputs to be used in the input & ouput of the neural network\n",
        "window_length,num_features,num_outputs= X_seq.shape[1], X_seq.shape[2],to_categorical(y_seq).shape[1]\n",
        "print(window_length,num_features,num_outputs)"
      ]
    },
    {
      "cell_type": "code",
      "execution_count": null,
      "id": "3390d037",
      "metadata": {
        "scrolled": false,
        "id": "3390d037"
      },
      "outputs": [],
      "source": [
        "# Perform cross-validation\n",
        "scores = []\n",
        "# Creating the k-fold cross-validator\n",
        "kfold = KFold(n_splits=5, shuffle=True) #k(n_splits)=5 >> total nos of samples/total nos of samples * % to be used as test data\n",
        "for i, (train, test) in enumerate(kfold.split(X_seq, y_seq)):\n",
        "    print(f'Fold {i}:')\n",
        "    print(train.shape)\n",
        "    print(test.shape)\n",
        "    # Convert output variables to categorical (one-hot encoding)\n",
        "    y_train_seq = to_categorical(y_seq[train])\n",
        "    y_test_seq = to_categorical(y_seq[test])\n",
        "\n",
        "    # Configuring the CNN-1D_LSTM network architecture\n",
        "    input_shape = (window_length, num_features)\n",
        "    model = keras.Sequential([\n",
        "        # Input layer\n",
        "        layers.Input(input_shape),\n",
        "        layers.Conv1D(filters=64, kernel_size=3, padding='same'), # CNN-1D layer 1\n",
        "        layers.BatchNormalization(), # batch_normalization\n",
        "        layers.Activation('relu'), # activation function\n",
        "        # Hidden Conv Layer\n",
        "        layers.Conv1D(filters=64, kernel_size=3, padding='same'), # CNN-1D layer 2\n",
        "        layers.BatchNormalization(), # batch_normalization\n",
        "        layers.Activation('relu'), # activation function\n",
        "        # Recurrent LSTM Layers\n",
        "        layers.LSTM(units=128, return_sequences=True), # LSTM layer 1\n",
        "        layers.Activation('relu'), # activation function\n",
        "        layers.LSTM(units=128, return_sequences=False), # LSTM layer 2\n",
        "        layers.Activation('relu'), # activation function\n",
        "        # Dense layers\n",
        "        layers.Dense(128, activation=\"relu\"),\n",
        "        # Activation function for the output layer 'softmax' for Multi-classification\n",
        "        layers.Dense(num_outputs, activation='softmax')])\n",
        "\n",
        "    # Compiling the model\n",
        "    initial_learning_rate = 0.001\n",
        "    lr_schedule = keras.optimizers.schedules.ExponentialDecay(\n",
        "        initial_learning_rate,\n",
        "        decay_steps=10,\n",
        "        decay_rate=0.9)\n",
        "    opt = keras.optimizers.RMSprop(learning_rate=lr_schedule)#optimizer\n",
        "    model.compile(loss= keras.losses.CategoricalCrossentropy(), optimizer=opt, metrics=['accuracy'])\n",
        "\n",
        "    # Train the model\n",
        "    model.fit(X_seq[train], y_train_seq , validation_data=(X_seq[test], y_test_seq), epochs=10, batch_size=64)\n",
        "\n",
        "    # Predicting on the testing set\n",
        "    y_pred = model.predict(X_seq[test])\n",
        "    # Converting predictions to class_labels\n",
        "    predctd_label = np.argmax(y_pred, axis=1)\n",
        "    true_label = y_seq[test]\n",
        "\n",
        "    # Calculate accuracy score for the current fold\n",
        "    fold_accuracy = accuracy_score(true_label, predctd_label)\n",
        "    # Storing the accuracy score for the fold\n",
        "    scores.append(fold_accuracy)\n",
        "\n",
        "# Print the accuracy scores for each fold and finally compute the Mean accuracy\n",
        "print('\\n')\n",
        "print(scores)\n",
        "print('\\n')\n",
        "avg_acc = np.mean(scores)\n",
        "print(\"Mean_Accuracy:\", avg_acc)"
      ]
    },
    {
      "cell_type": "code",
      "execution_count": null,
      "id": "0e39cd02",
      "metadata": {
        "id": "0e39cd02"
      },
      "outputs": [],
      "source": [
        "# Performance of the model on the testing set\n",
        "## Calculating the mean accuracy in percentage (%)\n",
        "avg_accuracy_percent=avg_acc * 100\n",
        "# Print the mean accuracy\n",
        "print(f\"Mean_Accuracy: {avg_accuracy_percent:.1f} %\")"
      ]
    },
    {
      "cell_type": "code",
      "execution_count": null,
      "id": "fc7bac01",
      "metadata": {
        "id": "fc7bac01"
      },
      "outputs": [],
      "source": [
        "# Classes of the the performed activities\n",
        "class_labels  = ['Standing still','Sitting and relaxing','Lying down','Walking','Climbing stairs',\n",
        "                 'Waist bends forward', 'Frontal elevation of arms','Knees bending (crouching)','Cycling',\n",
        "                 'Jogging','Running','Jump front & back']\n",
        "# Create a confusion matrix >> test set\n",
        "conf_matrix = confusion_matrix(np.argmax(y_test_seq, axis=1),predctd_label)\n",
        "# Calculate accuracy percentages for each predicted class labels\n",
        "class_lbl_accuracy = conf_matrix.astype('float') / conf_matrix.sum(axis=1)[:, np.newaxis] * 100\n",
        "# Plot the confusion matrix with accuracy percentages\n",
        "plt.figure(figsize=(10, 7), dpi=85)\n",
        "sns.heatmap(class_lbl_accuracy, annot=True, fmt='.1f', cmap='Purples', xticklabels=class_labels, yticklabels=class_labels, linewidths=0.5) #plot data\n",
        "plt.title('\\nConfusion Matrix : Testing Classification Accuracy (%)', fontsize=13, fontweight='bold')\n",
        "plt.xlabel('\\nPredicted Activities', fontsize=12, fontweight='bold')\n",
        "plt.ylabel('\\nActual Activities', fontsize=12, fontweight='bold')\n",
        "plt.show() # display plot"
      ]
    },
    {
      "cell_type": "markdown",
      "id": "7a643b22",
      "metadata": {
        "id": "7a643b22"
      },
      "source": [
        "- Visualize accelerometer measurements"
      ]
    },
    {
      "cell_type": "code",
      "execution_count": null,
      "id": "2d295fb0",
      "metadata": {
        "scrolled": false,
        "id": "2d295fb0"
      },
      "outputs": [],
      "source": [
        "# Performed activities\n",
        "activity_acc = {1:'Standing still(1 min)',2:'Sitting and relaxing (1 min)',3:'Lying down (1 min)',4:'Walking (1 min)',\n",
        "                    5: 'Climbing stairs (1 min)',6:'Waist bends forward (20x)',7:'Frontal elevation of arms (20x)',\n",
        "                    8:'Knees bending (crouching) (20x)',9:'Cycling', 10:'Jogging (1 min)',11:'Running (1 min)',12:'Jump front & back (20x)'}\n",
        "# defining axes and figure size\n",
        "fig, axes = plt.subplots(6,2, figsize=(12,14),dpi=80)\n",
        "# plot the acceleration measurements for the activities perfromed\n",
        "for i, ax in zip(activity_acc.keys(), axes.flat):\n",
        "    ax.plot(filtered_movement_data[filtered_movement_data['classes']==i].reset_index(drop=True)['x'],c='r',alpha=0.9,label='acc. x')\n",
        "    ax.plot(filtered_movement_data[filtered_movement_data['classes']==i].reset_index(drop=True)['y'],c='b',alpha=0.9,label='acc. y')\n",
        "    ax.plot(filtered_movement_data[filtered_movement_data['classes']==i].reset_index(drop=True)['z'],c='y',alpha=0.9,label='acc. z')\n",
        "    ax.set_title(f'\\n{activity_acc[i]} - Accelerometer', fontsize=11) # title\n",
        "    ax.set_xlabel('\\nSample points', fontsize=10) #x_label\n",
        "    ax.set_ylabel('\\nAcceleration (m/s^2)', fontsize=10)  #y_label\n",
        "    ax.legend(loc=\"upper left\", fontsize=9)\n",
        "# Adjust the layout\n",
        "plt.tight_layout()\n",
        "plt.show() #display plots"
      ]
    },
    {
      "cell_type": "code",
      "execution_count": null,
      "id": "92a4843e",
      "metadata": {
        "id": "92a4843e"
      },
      "outputs": [],
      "source": []
    }
  ],
  "metadata": {
    "kernelspec": {
      "display_name": "Python 3 (ipykernel)",
      "language": "python",
      "name": "python3"
    },
    "language_info": {
      "codemirror_mode": {
        "name": "ipython",
        "version": 3
      },
      "file_extension": ".py",
      "mimetype": "text/x-python",
      "name": "python",
      "nbconvert_exporter": "python",
      "pygments_lexer": "ipython3",
      "version": "3.9.12"
    },
    "colab": {
      "provenance": []
    }
  },
  "nbformat": 4,
  "nbformat_minor": 5
}