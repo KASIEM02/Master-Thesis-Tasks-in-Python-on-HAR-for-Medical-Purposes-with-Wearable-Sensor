{
  "cells": [
    {
      "cell_type": "markdown",
      "id": "a7015e3e",
      "metadata": {
        "id": "a7015e3e"
      },
      "source": [
        "- Training and Testing with IMU-(Acceleration & Gyroscope) measurements (Movesense dataset)\n",
        "\n"
      ]
    },
    {
      "cell_type": "code",
      "source": [
        "# Importing libraries\n",
        "import pandas as pd\n",
        "import seaborn as sns\n",
        "import numpy as np\n",
        "import os\n",
        "import matplotlib.pyplot as plt\n",
        "%matplotlib inline\n",
        "from keras import layers\n",
        "import keras\n",
        "from keras.utils import to_categorical\n",
        "from sklearn.preprocessing import StandardScaler\n",
        "from sklearn.model_selection import KFold\n",
        "from sklearn.metrics import accuracy_score, confusion_matrix\n",
        "from scipy.signal import butter, filtfilt\n",
        "import warnings\n",
        "warnings.filterwarnings('ignore')"
      ],
      "metadata": {
        "id": "WF3sEOOfy3f6"
      },
      "id": "WF3sEOOfy3f6",
      "execution_count": null,
      "outputs": []
    },
    {
      "cell_type": "code",
      "execution_count": null,
      "id": "dd042e8a",
      "metadata": {
        "id": "dd042e8a"
      },
      "outputs": [],
      "source": [
        "# load the labelled movensense dataset\n",
        "folder_path_imu ='C:/Users/val-c/Desktop/movesense_lblled_imu'\n",
        "# Get the list of all files in the folder_location\n",
        "file_list = os.listdir(folder_path_imu)\n",
        "# Loop via the list of files & read them into pd\n",
        "dataframes = []\n",
        "for file_name in file_list:\n",
        "    if file_name.endswith(\".csv\"):  # files in csv format\n",
        "        file_path = os.path.join(folder_path_imu, file_name)\n",
        "        df = pd.read_csv(file_path)\n",
        "        dataframes.append(df)\n",
        "# Combine all the data_frame into one\n",
        "movement_data = pd.concat(dataframes, ignore_index=True)\n",
        "movement_data.head(n=5) # display first-five rows"
      ]
    },
    {
      "cell_type": "code",
      "execution_count": null,
      "id": "a636b2d2",
      "metadata": {
        "id": "a636b2d2"
      },
      "outputs": [],
      "source": [
        "# Display info of the dataframe\n",
        "movement_data.info()"
      ]
    },
    {
      "cell_type": "code",
      "execution_count": null,
      "id": "ba51a4cf",
      "metadata": {
        "id": "ba51a4cf"
      },
      "outputs": [],
      "source": [
        "# Check for missing values\n",
        "movement_data.isna().sum(axis=0).to_frame('Total')"
      ]
    },
    {
      "cell_type": "code",
      "execution_count": null,
      "id": "e8756374",
      "metadata": {
        "id": "e8756374"
      },
      "outputs": [],
      "source": [
        "# Class labels in the dataframe (df)\n",
        "unique_label = np.unique(movement_data.classes)\n",
        "class_label = np.sort(unique_label)\n",
        "print(class_label)"
      ]
    },
    {
      "cell_type": "code",
      "execution_count": null,
      "id": "37ff0935",
      "metadata": {
        "id": "37ff0935"
      },
      "outputs": [],
      "source": [
        "# Plot the number of samples present in each class_label\n",
        "class_label = ['Standing still','Sitting and relaxing','Lying down','Walking', 'Climbing stairs',\n",
        "               'Waist bends forward', 'Frontal elevation of arms','Knees bending (crouching)',\n",
        "               'Cycling','Jogging','Running','Jump front & back']\n",
        "plt.figure(figsize=(6, 6)) # figure sizing\n",
        "num_of_classes = len(class_label)\n",
        "# Creating barplot for the activitiy distribution in the df\n",
        "sns.barplot(x=class_label, y=movement_data[\"classes\"].value_counts(), color='b', width=0.7)\n",
        "# Replace the numerical x-axis ticks with class labels\n",
        "plt.xticks(range(num_of_classes), class_label, rotation=45, ha='right')\n",
        "# the x_axis & y_axis labels, title\n",
        "plt.xlabel('\\nClasses', fontsize=10)\n",
        "plt.ylabel('\\nCount', fontsize=10)\n",
        "plt.title(\"\\n Activity distribution of the movesense dataset\", fontsize=12)\n",
        "#display plot\n",
        "plt.tight_layout()\n",
        "plt.show()"
      ]
    },
    {
      "cell_type": "code",
      "execution_count": null,
      "id": "bca79366",
      "metadata": {
        "id": "bca79366"
      },
      "outputs": [],
      "source": [
        "# Statistics of the dataframe\n",
        "movement_data.describe().T"
      ]
    },
    {
      "cell_type": "code",
      "execution_count": null,
      "id": "725cccf7",
      "metadata": {
        "id": "725cccf7"
      },
      "outputs": [],
      "source": [
        "# Data filtering\n",
        "# Columns of the dataframe to apply filtering\n",
        "cols=['x', 'y', 'z','gx', 'gy', 'gz']\n",
        "# filtering the sensor signal from noise\n",
        "# low pass filtering > remove high frequency noise\n",
        "## Defining the low-pass filter parameters\n",
        "cutoff_freq = 20 # hz\n",
        "fs = 52  # sampling rate (Hz)\n",
        "nyquist_freq = 0.5 * fs\n",
        "n_order = 3 #filter_order\n",
        "# Designing the Butterworth filter\n",
        "b, a = butter(n_order , cutoff_freq/nyquist_freq, btype='low')\n",
        "# Applying the filter to the selected data_columns\n",
        "filtered_data = filtfilt(b, a,movement_data[cols].values, axis=0)\n",
        "#assign the filtered data to the dataframe\n",
        "filtered_movement_data= pd.DataFrame(filtered_data, columns=cols) # put the filtered data to df\n",
        "filtered_movement_data['classes'] = movement_data['classes'] # assign back the labels\n",
        "# Display the filtered DataFrame\n",
        "filtered_movement_data.head() # display first_five rows"
      ]
    },
    {
      "cell_type": "code",
      "execution_count": null,
      "id": "ddb34a12",
      "metadata": {
        "id": "ddb34a12"
      },
      "outputs": [],
      "source": [
        "# Features and class from the dataframe\n",
        "Features =filtered_movement_data.copy() #features/input\n",
        "Label = Features.pop('classes') # class_labels/output"
      ]
    },
    {
      "cell_type": "code",
      "execution_count": null,
      "id": "8e7176a2",
      "metadata": {
        "id": "8e7176a2"
      },
      "outputs": [],
      "source": [
        "# Normalize the input variables\n",
        "scaler = StandardScaler()\n",
        "normalized_feature = scaler.fit_transform(Features)"
      ]
    },
    {
      "cell_type": "code",
      "execution_count": null,
      "id": "abe1edb7",
      "metadata": {
        "id": "abe1edb7"
      },
      "outputs": [],
      "source": [
        "# Data-Segmentation\n",
        "# Creating a function for the sliding_window\n",
        "#num_time_step: which specifies the length of each segment\n",
        "#step_size: which specifies the step size used to slide the window over the data\n",
        "def create_sequences(X, y, num_time_step, stepsize=1): # X:input y: output/target\n",
        "    segment, label = [],[]\n",
        "    for i in range(0,len(X) - num_time_step+1, stepsize):\n",
        "        x = X[i:i + num_time_step]\n",
        "        labels = y[i + num_time_step-1]\n",
        "        segment.append(x)\n",
        "        label.append(labels)\n",
        "    return np.array(segment), np.array(label)"
      ]
    },
    {
      "cell_type": "code",
      "execution_count": null,
      "id": "e4072d07",
      "metadata": {
        "id": "e4072d07"
      },
      "outputs": [],
      "source": [
        "# Creating the data sequence\n",
        "X_seq, y_seq = create_sequences(normalized_feature, Label ,num_time_step=104, stepsize=52)\n",
        "# print shape of the data\n",
        "print(X_seq.shape, y_seq.shape)"
      ]
    },
    {
      "cell_type": "code",
      "execution_count": null,
      "id": "63f5e762",
      "metadata": {
        "id": "63f5e762"
      },
      "outputs": [],
      "source": [
        "# Extract window_length,number of features, number of outputs to be used in the input & ouput of the neural network\n",
        "window_length,num_features,num_outputs= X_seq.shape[1], X_seq.shape[2],to_categorical(y_seq).shape[1]\n",
        "print(window_length,num_features,num_outputs)"
      ]
    },
    {
      "cell_type": "code",
      "execution_count": null,
      "id": "de95b568",
      "metadata": {
        "scrolled": false,
        "id": "de95b568"
      },
      "outputs": [],
      "source": [
        "# Perform cross-validation\n",
        "scores = []\n",
        "# Creating the k-fold cross-validator\n",
        "kfold = KFold(n_splits=5, shuffle=True) #k(n_splits)=5 >> total nos of samples/total nos of samples * % to be used as test data\n",
        "for i, (train, test) in enumerate(kfold.split(X_seq, y_seq)):\n",
        "    print(f'Fold {i}:')\n",
        "    print(train.shape)\n",
        "    print(test.shape)\n",
        "    # Convert output variables to categorical (one-hot encoding)\n",
        "    y_train_seq = to_categorical(y_seq[train])\n",
        "    y_test_seq = to_categorical(y_seq[test])\n",
        "\n",
        "    # Configuring the CNN-1D_LSTM network architecture\n",
        "    input_shape = (window_length, num_features)\n",
        "    model = keras.Sequential([\n",
        "        # Input layer\n",
        "        layers.Input(input_shape),\n",
        "        layers.Conv1D(filters=64, kernel_size=3, padding='same'), # CNN-1D layer 1\n",
        "        layers.BatchNormalization(), # batch_normalization\n",
        "        layers.Activation('relu'), # activation function\n",
        "        # Hidden Conv Layer\n",
        "        layers.Conv1D(filters=64, kernel_size=3, padding='same'), # CNN-1D layer 2\n",
        "        layers.BatchNormalization(), # batch_normalization\n",
        "        layers.Activation('relu'), # activation function\n",
        "        # Recurrent LSTM Layers\n",
        "        layers.LSTM(units=128, return_sequences=True), # LSTM layer 1\n",
        "        layers.Activation('relu'), # activation function\n",
        "        layers.LSTM(units=128, return_sequences=False), # LSTM layer 2\n",
        "        layers.Activation('relu'), # activation function\n",
        "        # Dense layers\n",
        "        layers.Dense(128, activation=\"relu\"),\n",
        "        # Activation function for the output layer 'softmax' for Multi-classification\n",
        "        layers.Dense(num_outputs, activation='softmax')])\n",
        "\n",
        "    # Compiling the model\n",
        "    initial_learning_rate = 0.001\n",
        "    lr_schedule = keras.optimizers.schedules.ExponentialDecay(\n",
        "        initial_learning_rate,\n",
        "        decay_steps=10,\n",
        "        decay_rate=0.9)\n",
        "    opt = keras.optimizers.RMSprop(learning_rate=lr_schedule) #optimizer\n",
        "    model.compile(loss= keras.losses.CategoricalCrossentropy(), optimizer=opt, metrics=['accuracy'])\n",
        "\n",
        "    # Train the model\n",
        "    model.fit(X_seq[train], y_train_seq, validation_data=(X_seq[test], y_test_seq), epochs=10, batch_size=64)\n",
        "\n",
        "    # Predicting on the testing set\n",
        "    y_pred = model.predict(X_seq[test])\n",
        "    # Converting predictions to class_labels\n",
        "    predctd_label = np.argmax(y_pred, axis=1)\n",
        "    true_label = y_seq[test]\n",
        "\n",
        "    # Calculate accuracy score for the current fold\n",
        "    fold_accuracy = accuracy_score(true_label, predctd_label)\n",
        "    # Storing the accuracy score for the fold\n",
        "    scores.append(fold_accuracy)\n",
        "\n",
        "# Print the accuracy scores for each fold and finally compute the Mean accuracy\n",
        "print('\\n')\n",
        "print(scores)\n",
        "print('\\n')\n",
        "avg_acc = np.mean(scores)\n",
        "print(\"Mean_Accuracy:\", avg_acc)"
      ]
    },
    {
      "cell_type": "code",
      "execution_count": null,
      "id": "964eb884",
      "metadata": {
        "id": "964eb884"
      },
      "outputs": [],
      "source": [
        "# Performance of the model on the testing set\n",
        "## Calculating the mean accuracy in percentage (%)\n",
        "avg_accuracy_percent=avg_acc * 100\n",
        "# Print the mean accuracy\n",
        "print(f\"Mean_Accuracy: {avg_accuracy_percent:.1f} %\")"
      ]
    },
    {
      "cell_type": "code",
      "execution_count": null,
      "id": "fc7bac01",
      "metadata": {
        "id": "fc7bac01"
      },
      "outputs": [],
      "source": [
        "# Classes of the the performed activities\n",
        "class_labels  = ['Standing still','Sitting and relaxing','Lying down','Walking','Climbing stairs',\n",
        "                 'Waist bends forward', 'Frontal elevation of arms','Knees bending (crouching)','Cycling',\n",
        "                 'Jogging','Running','Jump front & back']\n",
        "# Create a confusion matrix >> test set\n",
        "conf_matrix = confusion_matrix(np.argmax(y_test_seq, axis=1),predctd_label)\n",
        "# Calculate accuracy percentages for each predicted class labels\n",
        "class_lbl_accuracy = conf_matrix.astype('float') / conf_matrix.sum(axis=1)[:, np.newaxis] * 100\n",
        "# Plot the confusion matrix with accuracy percentages\n",
        "plt.figure(figsize=(10, 7), dpi=85)\n",
        "sns.heatmap(class_lbl_accuracy, annot=True, fmt='.1f', cmap='PuBu', xticklabels=class_labels, yticklabels=class_labels, linewidths=0.5) #plot data\n",
        "plt.title('\\nConfusion Matrix : Testing Classification Accuracy (%)', fontsize=13, fontweight='bold')\n",
        "plt.xlabel('\\nPredicted Activities', fontsize=12, fontweight='bold')\n",
        "plt.ylabel('\\nActual Activities', fontsize=12, fontweight='bold')\n",
        "plt.show() # display plot"
      ]
    },
    {
      "cell_type": "markdown",
      "id": "8efdd5f5",
      "metadata": {
        "id": "8efdd5f5"
      },
      "source": [
        "- Visualize accelerometer + gyroscope measurements"
      ]
    },
    {
      "cell_type": "code",
      "execution_count": null,
      "id": "ee9a4f26",
      "metadata": {
        "scrolled": false,
        "id": "ee9a4f26"
      },
      "outputs": [],
      "source": [
        "# Performed activities\n",
        "activity_dict = {1:'Standing still (1 min)',2:'Sitting and relaxing (1 min)',3:'Lying down (1 min)',\n",
        "                4:'Walking (1 min)', 5: 'Climbing stairs (1 min)',6:'Waist bends forward (20x)',\n",
        "                7:'Frontal elevation of arms (20x)',8:'Knees bending (crouching) (20x)',9:'Cycling (1 min)',\n",
        "                10:'Jogging (1 min)',11:'Running (1 min)',12:'Jump front & back (20x)'}\n",
        "# Determining the number of rows and columns for subplots\n",
        "nos_row = len(activity_dict)\n",
        "nos_col = 2\n",
        "# setting the subplots\n",
        "fig, axs = plt.subplots(nos_row, nos_col, figsize=(10, 4*nos_row),dpi=75)\n",
        "for i, activity_id in enumerate(activity_dict.keys()):\n",
        "    # Plot accelerometer measurements for the performed activities\n",
        "    axs[i, 0].plot(filtered_movement_data[filtered_movement_data['classes'] == activity_id].reset_index(drop=True)['x'], color='r', alpha=0.7)\n",
        "    axs[i, 0].plot(filtered_movement_data[filtered_movement_data['classes'] == activity_id].reset_index(drop=True)['y'], color='b', alpha=0.7)\n",
        "    axs[i, 0].plot(filtered_movement_data[filtered_movement_data['classes'] == activity_id].reset_index(drop=True)['z'], color='y', alpha=0.7)\n",
        "    axs[i, 0].set_title(f'{activity_dict[activity_id]} - Accelerometer', fontsize=11)\n",
        "    axs[i, 0].set_ylabel('Acceleration (m/s^2)', fontsize=10)\n",
        "    axs[i, 0].set_xlabel('Sample points', fontsize=9.5)\n",
        "    axs[i, 0].legend([\"acc. x\", \"acc. y\", \"acc. z\"], fontsize=9, loc=\"upper left\")\n",
        "    # Plot gyroscope measurements for the performed activities\n",
        "    axs[i, 1].plot(filtered_movement_data[filtered_movement_data['classes'] == activity_id].reset_index(drop=True)['gx'], c='r', alpha=0.7)\n",
        "    axs[i, 1].plot(filtered_movement_data[filtered_movement_data['classes'] == activity_id].reset_index(drop=True)['gy'], c='b', alpha=0.7)\n",
        "    axs[i, 1].plot(filtered_movement_data[filtered_movement_data['classes'] == activity_id].reset_index(drop=True)['gz'], c='y', alpha=0.7)\n",
        "    axs[i, 1].set_title(f'{activity_dict[activity_id]} - Gyroscope', fontsize=11)\n",
        "    axs[i, 1].set_ylabel('Rotation (deg/s)', fontsize=10)\n",
        "    axs[i, 1].set_xlabel('Sample points', fontsize=9.5)\n",
        "    axs[i, 1].legend([\"gyro. x\", \"gyro. y\", \"gyro. z\"], fontsize=9, loc=\"upper left\")\n",
        "# Adjust the layout\n",
        "plt.tight_layout()\n",
        "plt.show() #display plots"
      ]
    }
  ],
  "metadata": {
    "kernelspec": {
      "display_name": "Python 3 (ipykernel)",
      "language": "python",
      "name": "python3"
    },
    "language_info": {
      "codemirror_mode": {
        "name": "ipython",
        "version": 3
      },
      "file_extension": ".py",
      "mimetype": "text/x-python",
      "name": "python",
      "nbconvert_exporter": "python",
      "pygments_lexer": "ipython3",
      "version": "3.9.12"
    },
    "colab": {
      "provenance": []
    }
  },
  "nbformat": 4,
  "nbformat_minor": 5
}