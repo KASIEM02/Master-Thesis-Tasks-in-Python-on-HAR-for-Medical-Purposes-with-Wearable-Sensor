{
  "cells": [
    {
      "cell_type": "markdown",
      "id": "f91ab448",
      "metadata": {
        "id": "f91ab448"
      },
      "source": [
        "Training and testing with ECG"
      ]
    },
    {
      "cell_type": "code",
      "execution_count": null,
      "id": "75847fae",
      "metadata": {
        "id": "75847fae"
      },
      "outputs": [],
      "source": [
        "# Importing libraries\n",
        "import pandas as pd\n",
        "import seaborn as sns\n",
        "import numpy as np\n",
        "import os\n",
        "import glob\n",
        "from scipy.signal import butter, filtfilt\n",
        "import matplotlib.pyplot as plt\n",
        "%matplotlib inline\n",
        "from keras import layers\n",
        "import keras\n",
        "from sklearn.preprocessing import StandardScaler\n",
        "from sklearn.metrics import classification_report, confusion_matrix\n",
        "import warnings\n",
        "warnings.filterwarnings('ignore')"
      ]
    },
    {
      "cell_type": "markdown",
      "id": "22120ed8",
      "metadata": {
        "id": "22120ed8"
      },
      "source": [
        "# Load the training data"
      ]
    },
    {
      "cell_type": "code",
      "execution_count": null,
      "id": "dbb62dd3",
      "metadata": {
        "id": "dbb62dd3"
      },
      "outputs": [],
      "source": [
        "# File directory_path\n",
        "## Columns of the training dataset: 'subject column' was introduced to extract activities performed by a specific subject\n",
        "headers=('acc_CHsensor_X','acc_CHsensor_Y','acc_CHsensor_Z','ecg_i','ecg_ii','acc_LAsensor_X','acc_LAsensor_Y','acc_LAsensor_Z',\n",
        "       'gyro_LAsensor_X','gyro_LAsensor_Y','gyro_LAsensor_Z','magn_LAsensor_X','magn_LAsensor_Y','magn_LAsensor_Z',\n",
        "      ' acc_RLAsensor_X',' acc_RLAsensor_Y',' acc_RLAsensor_Z', 'gyro_RLAsensor_sensor_X',' gyro_RLAsensor_sensor_Y',\n",
        "      ' gyro_RLAsensor_sensor_Z','magn_RLAsensor_X','magn_RLAsensor_Y','magn_RLAsensor_Z','classes', 'subject')\n",
        "# File location\n",
        "path = r\"C:/Users/val-c/Machine Learning_Deep Learning/MHEALTHDATASET-csv/*.csv\" # get files from the introduced subjects, .csv\n",
        "data_files = glob.glob(path)\n",
        "# Get list of files from path\n",
        "data_frames = []\n",
        "for file in data_files:\n",
        "    movement_activity_data = pd.read_csv(file,header=None, names=headers)\n",
        "    data_frames.append( movement_activity_data)"
      ]
    },
    {
      "cell_type": "code",
      "execution_count": null,
      "id": "7b83744e",
      "metadata": {
        "id": "7b83744e"
      },
      "outputs": [],
      "source": [
        "# Merge the folder files and display data\n",
        "movement_activity_data = pd.concat(data_frames, ignore_index=True)\n",
        "movement_activity_data.head() #display first-five rows"
      ]
    },
    {
      "cell_type": "code",
      "execution_count": null,
      "id": "2bede29e",
      "metadata": {
        "id": "2bede29e"
      },
      "outputs": [],
      "source": [
        "# Check for missing values\n",
        "movement_activity_data.isna().sum(axis=0).to_frame('Total')"
      ]
    },
    {
      "cell_type": "code",
      "execution_count": null,
      "id": "63b12f27",
      "metadata": {
        "id": "63b12f27"
      },
      "outputs": [],
      "source": [
        "# Data info of the dataframe\n",
        "movement_activity_data.info()"
      ]
    },
    {
      "cell_type": "code",
      "execution_count": null,
      "id": "d4b0e64f",
      "metadata": {
        "id": "d4b0e64f"
      },
      "outputs": [],
      "source": [
        "# Display class labels in the training data column\n",
        "movement_activity_data.classes.unique()"
      ]
    },
    {
      "cell_type": "code",
      "execution_count": null,
      "id": "8910f31d",
      "metadata": {
        "id": "8910f31d"
      },
      "outputs": [],
      "source": [
        "# Plot the number of samples present in each class_label using a Bar plot.\n",
        "class_label = ['Null','Standing still','Sitting and relaxing','Lying down','Walking', 'Climbing stairs',\n",
        "                       'Waist bends forward', 'Frontal elevation of arms','Knees bending (crouching)','Cycling',\n",
        "                      'Jogging','Running','Jump front & back']\n",
        "plt.figure(figsize=(8, 7), dpi=80) # figure sizing\n",
        "num_classes = len(class_label)\n",
        "plt.bar(range(num_classes), movement_activity_data[\"classes\"].value_counts(), color='k', linewidth=0.1) #plot data\n",
        "# Replace the numerical x-axis ticks with class labels\n",
        "plt.xticks(range(num_classes), class_label, rotation=45, ha='right')\n",
        "# the x-axis and y-axis labels, title\n",
        "plt.xlabel('\\nClasses', fontsize=12)\n",
        "plt.ylabel('\\nCount', fontsize=12)\n",
        "plt.title(\"\\nNumber of samples by class\", fontsize=14)\n",
        "plt.show() #display plot"
      ]
    },
    {
      "cell_type": "code",
      "execution_count": null,
      "id": "5f22c41a",
      "metadata": {
        "id": "5f22c41a"
      },
      "outputs": [],
      "source": [
        "# Examining the class label imbalance\n",
        "counts = np.bincount(movement_activity_data[\"classes\"])\n",
        "neg , pos = counts[0], counts[1]\n",
        "total = neg + pos\n",
        "print('samples:\\nTotal: {}\\nPositive: {} ({:.2f}% of total)\\n'.format(total, pos, 100 * pos / total))"
      ]
    },
    {
      "cell_type": "code",
      "execution_count": null,
      "id": "ef48dcbc",
      "metadata": {
        "id": "ef48dcbc"
      },
      "outputs": [],
      "source": [
        "# Downsampling null_classes_0 observation to account for the imbalance distribution\n",
        "def downsample_data(movement_activity_data):\n",
        "    mask = movement_activity_data['classes'] == 0\n",
        "    HAR_data_classes0 = movement_activity_data[mask].sample(n=30720, random_state=1)\n",
        "    HAR_data_classes_else = movement_activity_data[~mask]\n",
        "    return pd.concat([HAR_data_classes0, HAR_data_classes_else], ignore_index=True)\n",
        "movement_data = downsample_data(movement_activity_data)\n",
        "# display the statistical balance\n",
        "movement_data.classes.value_counts()"
      ]
    },
    {
      "cell_type": "code",
      "execution_count": null,
      "id": "b09a227c",
      "metadata": {
        "id": "b09a227c"
      },
      "outputs": [],
      "source": [
        "# Display the rows and columns after balancing the distribution\n",
        "print('rows, cols :',movement_data.shape)"
      ]
    },
    {
      "cell_type": "code",
      "execution_count": null,
      "id": "1aee850c",
      "metadata": {
        "id": "1aee850c"
      },
      "outputs": [],
      "source": [
        "# Feature aggregation of the ECG measurements by creating a new column of the average of ecg_i and ii called 'Mean_ecg'\n",
        "movement_data.insert(5, 'Mean_ecg', (movement_data['ecg_i'] + movement_data['ecg_ii']) / 2)\n",
        "# Display the DataFrame\n",
        "movement_data.head(n=2) # display first-two rows"
      ]
    },
    {
      "cell_type": "code",
      "execution_count": null,
      "id": "51b55487",
      "metadata": {
        "id": "51b55487"
      },
      "outputs": [],
      "source": [
        "# Display the statistics of the dataframe\n",
        "movement_data.describe().T"
      ]
    },
    {
      "cell_type": "markdown",
      "id": "31a7ba8f",
      "metadata": {
        "id": "31a7ba8f"
      },
      "source": [
        "# Filtering the Training data"
      ]
    },
    {
      "cell_type": "code",
      "execution_count": null,
      "id": "0eae78e1",
      "metadata": {
        "id": "0eae78e1"
      },
      "outputs": [],
      "source": [
        "# Columns of the dataframe to apply low pass filtering, > exclude the columns for classes & subject\n",
        "cols=['acc_CHsensor_X','acc_CHsensor_Y','acc_CHsensor_Z','ecg_i','ecg_ii','Mean_ecg','acc_LAsensor_X','acc_LAsensor_Y','acc_LAsensor_Z',\n",
        "       'gyro_LAsensor_X','gyro_LAsensor_Y','gyro_LAsensor_Z','magn_LAsensor_X','magn_LAsensor_Y','magn_LAsensor_Z',\n",
        "      ' acc_RLAsensor_X',' acc_RLAsensor_Y',' acc_RLAsensor_Z', 'gyro_RLAsensor_sensor_X',' gyro_RLAsensor_sensor_Y',\n",
        "      ' gyro_RLAsensor_sensor_Z','magn_RLAsensor_X','magn_RLAsensor_Y','magn_RLAsensor_Z']\n",
        "# filtering the sensor signal from noise\n",
        "# low pass filtering > remove high frequency noise\n",
        "## Defining the low-pass filter parameters\n",
        "cutoff_freq = 20 # hz\n",
        "fs = 50  # hz\n",
        "nyquist_freq = 0.5 * fs\n",
        "n_order = 3 #filter_order\n",
        "# Designing the Butterworth filter\n",
        "b, a = butter(n_order , cutoff_freq/nyquist_freq, btype='low')\n",
        "# Applying the filter to the selected data_columns\n",
        "filtered_data = filtfilt(b, a,movement_data[cols].values, axis=0)# applying low_pass filtering to columns with filtfilt\n",
        "#assign the filtered data to the dataframe\n",
        "filtered_movement_data= pd.DataFrame(filtered_data, columns=cols) # put the filtered data to df\n",
        "filtered_movement_data[['classes','subject']] = movement_data[['classes','subject']] # assign back the class labels and subject\n",
        "# Display the filtered DataFrame\n",
        "#filtered_movement_data.head() # display first_five rows"
      ]
    },
    {
      "cell_type": "markdown",
      "id": "dadcbace",
      "metadata": {
        "id": "dadcbace"
      },
      "source": [
        "# Feature selection for training"
      ]
    },
    {
      "cell_type": "code",
      "execution_count": null,
      "id": "8d8d67b1",
      "metadata": {
        "id": "8d8d67b1"
      },
      "outputs": [],
      "source": [
        "# Drop other columns and leave 'ecg_i','ecg_ii and classes\n",
        "move_data=filtered_movement_data.drop(['acc_CHsensor_X','acc_CHsensor_Y','acc_CHsensor_Z', 'ecg_i',\n",
        "                                       'ecg_ii','acc_LAsensor_X','acc_LAsensor_Y',\n",
        "                                       'acc_LAsensor_Z', 'gyro_LAsensor_X','gyro_LAsensor_Y','gyro_LAsensor_Z',\n",
        "                                       'magn_LAsensor_X','magn_LAsensor_Y','magn_LAsensor_Z',' acc_RLAsensor_X',\n",
        "                                       ' acc_RLAsensor_Y',' acc_RLAsensor_Z', 'gyro_RLAsensor_sensor_X',\n",
        "                                       ' gyro_RLAsensor_sensor_Y',' gyro_RLAsensor_sensor_Z','magn_RLAsensor_X',\n",
        "                                       'magn_RLAsensor_Y','magn_RLAsensor_Z','subject'],axis=1)"
      ]
    },
    {
      "cell_type": "code",
      "execution_count": null,
      "id": "69ad0f32",
      "metadata": {
        "id": "69ad0f32"
      },
      "outputs": [],
      "source": [
        "# Feature and label extraction from the dataframe\n",
        "Feature =move_data.copy() #feature\n",
        "Label = Feature.pop('classes') # label"
      ]
    },
    {
      "cell_type": "code",
      "execution_count": null,
      "id": "65921726",
      "metadata": {
        "id": "65921726"
      },
      "outputs": [],
      "source": [
        "# Display column of the feature (input variable), i.e 'Mean_ecg' will be used as the feature variable for training\n",
        "Feature.columns"
      ]
    },
    {
      "cell_type": "markdown",
      "id": "cd604cfa",
      "metadata": {
        "id": "cd604cfa"
      },
      "source": [
        "# Normalize the training data"
      ]
    },
    {
      "cell_type": "code",
      "execution_count": null,
      "id": "229517ca",
      "metadata": {
        "id": "229517ca"
      },
      "outputs": [],
      "source": [
        "# StandardScaler to normalize the input variables (train set)\n",
        "scaler = StandardScaler()\n",
        "# Normalize the training input\n",
        "X_train_normalized = scaler.fit_transform(Feature)"
      ]
    },
    {
      "cell_type": "markdown",
      "id": "61b4a436",
      "metadata": {
        "id": "61b4a436"
      },
      "source": [
        "# Data segmentation"
      ]
    },
    {
      "cell_type": "code",
      "execution_count": null,
      "id": "df224f8d",
      "metadata": {
        "id": "df224f8d"
      },
      "outputs": [],
      "source": [
        "# Creating a function for the sliding_window  ( this function would be applied to the training set database and testing set movesense data)\n",
        "#num_time_step: which specifies the length of each segment\n",
        "#step_size: which specifies the step size used to slide the window over the data\n",
        "def create_sequences(X, y, num_time_step, stepsize=1): # X:input y: output/target\n",
        "    segment, label = [],[]\n",
        "    for i in range(0,len(X) - num_time_step+1, stepsize):\n",
        "        x = X[i:i + num_time_step]\n",
        "        labels = y[i + num_time_step-1]\n",
        "        segment.append(x)\n",
        "        label.append(labels)\n",
        "    return np.array(segment), np.array(label)"
      ]
    },
    {
      "cell_type": "markdown",
      "id": "9b5839c9",
      "metadata": {
        "id": "9b5839c9"
      },
      "source": [
        "# Creating training set"
      ]
    },
    {
      "cell_type": "code",
      "execution_count": null,
      "id": "805e6579",
      "metadata": {
        "id": "805e6579"
      },
      "outputs": [],
      "source": [
        "# Creating the training sequence by applying the above create_sequences function\n",
        "X_train_seq,y_train_seq = create_sequences(X_train_normalized, Label, num_time_step=100, stepsize=50)\n",
        "print (X_train_seq.shape, y_train_seq.shape)"
      ]
    },
    {
      "cell_type": "code",
      "execution_count": null,
      "id": "6933aad3",
      "metadata": {
        "id": "6933aad3"
      },
      "outputs": [],
      "source": [
        "# Extract window_length,number of features, number of classes to be used in the input & ouput of the neural network\n",
        "window_length,num_features,num_classes= X_train_seq.shape[1], X_train_seq.shape[2],len(np.unique(y_train_seq))\n",
        "print(window_length,num_features,num_classes)"
      ]
    },
    {
      "cell_type": "markdown",
      "id": "78b5673e",
      "metadata": {
        "id": "78b5673e"
      },
      "source": [
        "# Configure the neural network"
      ]
    },
    {
      "cell_type": "code",
      "execution_count": null,
      "id": "7009bd5a",
      "metadata": {
        "id": "7009bd5a"
      },
      "outputs": [],
      "source": [
        "# Configuring >> CNN-1D_LSTM network architecture\n",
        "input_shape=(window_length,num_features)\n",
        "model= keras.Sequential([\n",
        "# Input layer\n",
        "     layers.Input(input_shape), #input\n",
        "     layers.Conv1D(filters=64, kernel_size=3, padding='same'),# CNN-1D layer 1\n",
        "     layers.BatchNormalization(),# batch_normalization\n",
        "     layers.Activation('relu'), # activation function\n",
        "\n",
        "# Hidden Conv Layer\n",
        "     layers.Conv1D(filters=64, kernel_size=3, padding='same'), # CNN-1D layer 2\n",
        "     layers.BatchNormalization(), # batch_normalization\n",
        "     layers.Activation('relu'),# activation function\n",
        "\n",
        "# Recurrent LSTM Layers\n",
        "     layers.LSTM(units=128, return_sequences=True), # LSTM layer 1\n",
        "     layers.Activation('relu'), # activation function\n",
        "     layers.LSTM(units=128,return_sequences=False), # LSTM layer 2\n",
        "     layers.Activation('relu'), # activation function\n",
        "\n",
        "# Dense layers\n",
        "     layers.Dense(128,activation=\"relu\"), # Dense layer 1\n",
        "# Activation function for the output 'softmax' for the Multi-classification\n",
        "     layers.Dense(num_classes, activation='softmax')]) # ouput of dense layer\n",
        "\n",
        "# Summary of the model configuration\n",
        "model.summary(line_length=None,\n",
        "              positions=None,\n",
        "              print_fn=None,\n",
        "              expand_nested=False,\n",
        "              show_trainable=False,\n",
        "              layer_range=None,\n",
        "             )"
      ]
    },
    {
      "cell_type": "markdown",
      "id": "0e893cf1",
      "metadata": {
        "id": "0e893cf1"
      },
      "source": [
        "# Compile the model"
      ]
    },
    {
      "cell_type": "code",
      "execution_count": null,
      "id": "41ed1f15",
      "metadata": {
        "id": "41ed1f15"
      },
      "outputs": [],
      "source": [
        "# Compiling the model\n",
        "initial_learning_rate =0.001\n",
        "lr_schedule = keras.optimizers.schedules.ExponentialDecay(\n",
        "    initial_learning_rate,\n",
        "    decay_steps=10,\n",
        "    decay_rate=0.9) #decay_rate/factor\n",
        "opt = keras.optimizers.RMSprop(learning_rate=lr_schedule) # optimizer\n",
        "model.compile(optimizer=opt, loss= keras.losses.SparseCategoricalCrossentropy(), metrics=[\"sparse_categorical_accuracy\"],)"
      ]
    },
    {
      "cell_type": "markdown",
      "id": "88ca6f82",
      "metadata": {
        "id": "88ca6f82"
      },
      "source": [
        "# Train the model"
      ]
    },
    {
      "cell_type": "code",
      "execution_count": null,
      "id": "cf1facb3",
      "metadata": {
        "id": "cf1facb3"
      },
      "outputs": [],
      "source": [
        "# Training of the subsets for 10 iterations\n",
        "history=model.fit(X_train_seq, y_train_seq,validation_split=0.1,epochs=10,batch_size=64)"
      ]
    },
    {
      "cell_type": "code",
      "execution_count": null,
      "id": "f23399d4",
      "metadata": {
        "id": "f23399d4"
      },
      "outputs": [],
      "source": [
        "# View the training history in pandas df\n",
        "train_history= pd.DataFrame(history.history)\n",
        "train_history #display history"
      ]
    },
    {
      "cell_type": "code",
      "execution_count": null,
      "id": "f7820e61",
      "metadata": {
        "id": "f7820e61"
      },
      "outputs": [],
      "source": [
        "# Training progress / session visualization\n",
        "# Training accuracy plotting\n",
        "plt.figure(figsize=(11, 8), dpi=80)\n",
        "plt.subplot(1, 2, 1)\n",
        "plt.plot(history.history['sparse_categorical_accuracy'],c='g') #plot accuracy\n",
        "plt.plot(history.history['val_sparse_categorical_accuracy'],c='g', linestyle='--' ) #plot val_acc\n",
        "plt.title('Training Accuracy')\n",
        "plt.ylabel('Accuracy')\n",
        "plt.xlabel('Epoch')\n",
        "plt.legend(['accuracy', 'val_accuracy'])\n",
        "# Training loss plotting\n",
        "plt.subplot(1, 2, 2)\n",
        "plt.plot(history.history['loss'],c='r') #plot loss\n",
        "plt.plot(history.history['val_loss'],c='r',linestyle='--') #plot val_loss\n",
        "plt.title('Training Loss')\n",
        "plt.ylabel('Loss')\n",
        "plt.xlabel('Epoch')\n",
        "plt.legend(['loss','val_loss'])\n",
        "# Display plot\n",
        "plt.show()"
      ]
    },
    {
      "cell_type": "markdown",
      "id": "87ae4864",
      "metadata": {
        "id": "87ae4864"
      },
      "source": [
        "# Evaluate the training session"
      ]
    },
    {
      "cell_type": "code",
      "execution_count": null,
      "id": "d59235b2",
      "metadata": {
        "id": "d59235b2"
      },
      "outputs": [],
      "source": [
        "# Training session evaluation of the model\n",
        "loss, accuracy =model.evaluate(X_train_seq,y_train_seq,verbose=0)\n",
        "print(f'Train loss: {loss:.4f}')\n",
        "print(f'\\nTrain accuracy: {accuracy:.4f}')"
      ]
    },
    {
      "cell_type": "code",
      "execution_count": null,
      "id": "f769cb3f",
      "metadata": {
        "id": "f769cb3f"
      },
      "outputs": [],
      "source": [
        "# Prediction on the train_data to get training classifications\n",
        "classify_train_data_ecg =model.predict(X_train_seq,verbose=0)\n",
        "classify_train_data_ecg= np.argmax(classify_train_data_ecg, axis=1)"
      ]
    },
    {
      "cell_type": "code",
      "execution_count": null,
      "id": "10d3c11c",
      "metadata": {
        "id": "10d3c11c"
      },
      "outputs": [],
      "source": [
        "# Create confusion matrix for the classifications on the train set\n",
        "cm = confusion_matrix(y_train_seq, classify_train_data_ecg)\n",
        "class_labels  = ['Null','Standing still','Sitting and relaxing','Lying down','Walking', 'Climbing stairs',\n",
        "                       'Waist bends forward', 'Frontal elevation of arms','Knees bending (crouching)', 'Cycling',\n",
        "                      'Jogging','Running','Jump front & back' ] #'null',\n",
        "# Plot the confusion matrix for the classification\n",
        "plt.figure(figsize=(11, 9),dpi=75)\n",
        "sns.heatmap(cm,fmt=\"d\",annot=True, cmap='GnBu', xticklabels=class_labels, yticklabels=class_labels,linewidths = 0.1)\n",
        "plt.title('\\nConfusion Matrix : Classification-training', fontsize=14, fontweight='bold')  #title\n",
        "plt.xlabel('\\nPredicted Activities', fontsize=12, fontweight='bold') #x-axis label\n",
        "plt.ylabel('\\nActual Activities', fontsize=12, fontweight='bold') #y-axis label\n",
        "#display cm plot\n",
        "plt.show()"
      ]
    },
    {
      "cell_type": "markdown",
      "id": "53d823ef",
      "metadata": {
        "id": "53d823ef"
      },
      "source": [
        "# Load  the testing data"
      ]
    },
    {
      "cell_type": "code",
      "execution_count": null,
      "id": "0b9b3fd8",
      "metadata": {
        "id": "0b9b3fd8"
      },
      "outputs": [],
      "source": [
        "# ecg files.......get the files from the resampled ecg folder\n",
        "# files folder_location\n",
        "folder_path_ecg ='C:/Users/val-c/Desktop/movesense_lblled_rsp_ecg'\n",
        "# Get the list of all files in the folder_location\n",
        "file_list = os.listdir(folder_path_ecg)\n",
        "# Loop through the list of files and read them into pandas\n",
        "dataframes= []\n",
        "for file_name in file_list:\n",
        "    if file_name.endswith(\".csv\"):  # files in csv format\n",
        "        file_path = os.path.join(folder_path_ecg, file_name)\n",
        "        df = pd.read_csv(file_path)\n",
        "        dataframes.append(df)\n",
        "# Combine all the data_frame into one_df\n",
        "combined_df_ecg = pd.concat(dataframes, ignore_index=True)\n",
        "combined_df_ecg.head(n=5)# display dataframe"
      ]
    },
    {
      "cell_type": "code",
      "execution_count": null,
      "id": "89d379f2",
      "metadata": {
        "id": "89d379f2"
      },
      "outputs": [],
      "source": [
        "# Convert float to integer_value for attibute > 'classes'\n",
        "combined_df_ecg['classes'] = combined_df_ecg['classes'].astype('int')\n",
        "print(combined_df_ecg.info())"
      ]
    },
    {
      "cell_type": "code",
      "execution_count": null,
      "id": "d4a521cf",
      "metadata": {
        "id": "d4a521cf"
      },
      "outputs": [],
      "source": [
        "# Checking for missing values on the test data\n",
        "combined_df_ecg.isna().sum()"
      ]
    },
    {
      "cell_type": "code",
      "execution_count": null,
      "id": "60a74dd5",
      "metadata": {
        "id": "60a74dd5"
      },
      "outputs": [],
      "source": [
        "# Display data info of the files\n",
        "combined_df_ecg.info()"
      ]
    },
    {
      "cell_type": "code",
      "execution_count": null,
      "id": "dd04ee3e",
      "metadata": {
        "id": "dd04ee3e"
      },
      "outputs": [],
      "source": [
        "# Display class_labels present in the dataframe\n",
        "combined_df_ecg.classes.unique()"
      ]
    },
    {
      "cell_type": "code",
      "execution_count": null,
      "id": "408e6be3",
      "metadata": {
        "id": "408e6be3"
      },
      "outputs": [],
      "source": [
        "# Examining if class imbalance exist on the test data\n",
        "## display nos of value in each class_label\n",
        "combined_df_ecg[\"classes\"].value_counts().sort_values()"
      ]
    },
    {
      "cell_type": "code",
      "execution_count": null,
      "id": "802cf743",
      "metadata": {
        "id": "802cf743"
      },
      "outputs": [],
      "source": [
        "# Statistics of the dataframe\n",
        "combined_df_ecg.describe().T"
      ]
    },
    {
      "cell_type": "code",
      "execution_count": null,
      "id": "96fa8aa4",
      "metadata": {
        "id": "96fa8aa4"
      },
      "outputs": [],
      "source": [
        "# Conversion of the ecg sample to mV\n",
        "## defining vaiables below:\n",
        "peak_to_peak_volt = 60  # dynamic range/full-scale input voltage in mV\n",
        "digital_resolution = 15  # resolution\n",
        "full_scale_digital_value = 2 ** digital_resolution  # number of steps in the digital output\n",
        "full_scale_input_volt = peak_to_peak_volt / 2  # average voltage level in mV\n",
        "digital_output_value = combined_df_ecg['sample']  # digital output values of ECG measurements\n",
        "combined_df_ecg.insert(1, 'sample_mV', (digital_output_value / full_scale_digital_value) * full_scale_input_volt) #put the new field to index position\n",
        "# Display new df\n",
        "combined_df_ecg.head() # display first-five rows"
      ]
    },
    {
      "cell_type": "code",
      "execution_count": null,
      "id": "14bb1182",
      "metadata": {
        "id": "14bb1182"
      },
      "outputs": [],
      "source": [
        "# Drop the 'sample' column\n",
        "combined_df_ecg=combined_df_ecg.drop(['sample'],axis=1)"
      ]
    },
    {
      "cell_type": "markdown",
      "id": "c2569d84",
      "metadata": {
        "id": "c2569d84"
      },
      "source": [
        "# Visualize ECG activities of the Mhealth and Movesense datasets"
      ]
    },
    {
      "cell_type": "markdown",
      "id": "0e26ae3c",
      "metadata": {
        "id": "0e26ae3c"
      },
      "source": [
        "- Visualization plot without filtering"
      ]
    },
    {
      "cell_type": "code",
      "execution_count": null,
      "id": "1f2d7f2c",
      "metadata": {
        "id": "1f2d7f2c"
      },
      "outputs": [],
      "source": [
        "# Performed activities with the ecg sensor >>\n",
        "# To be used for 1 min/20x plot\n",
        "activity_map_ecg = {1:'Standing still (1 min)',2:'Sitting and relaxing (1 min)',3:'Lying down (1 min)',\n",
        "                    4:'Walking (1 min)', 5: 'Climbing stairs (1 min)',6:'Waist bends forward (20x)',\n",
        "                    7:'Frontal elevation of arms (20x)',8:'Knees bending (crouching) (20x)',9:'Cycling (1 min)',\n",
        "                    10:'Jogging (1 min)',11:'Running (1 min)',12:'Jump front & back (20x)'}\n",
        "\n",
        "# To be used for 100 to 500 samples plot\n",
        "_activity_map_ecg_ = {1:'Standing still',2:'Sitting and relaxing',3:'Lying down',4:'Walking',\n",
        "                      5:'Climbing stairs',6:'Waist bends forward',7:'Frontal elevation of arms',\n",
        "                      8:'Knees bending (crouching)',9:'Cycling',10:'Jogging',11:'Running',\n",
        "                      12:'Jump front & back'}"
      ]
    },
    {
      "cell_type": "code",
      "execution_count": null,
      "id": "92753884",
      "metadata": {
        "scrolled": false,
        "id": "92753884"
      },
      "outputs": [],
      "source": [
        "# Plot the activities performed (without filtering) for both mhealth and movesense datasets >1min/20x\n",
        "fig, axs = plt.subplots(len(activity_map_ecg), 2, figsize=(12, 4 * len(activity_map_ecg)))\n",
        "# Plot the ecg measurement performed activities for the movesense dataset\n",
        "for i, activity_id in enumerate(activity_map_ecg.keys()):\n",
        "    axs[i, 1].plot(combined_df_ecg[combined_df_ecg['classes'] == activity_id].reset_index(drop=True)['sample_mV'], c='r', alpha=0.7, label='ECG Sample')\n",
        "    axs[i, 1].set_xlabel('Sample points', fontsize=9.5)  # X label\n",
        "    axs[i, 1].set_ylabel('Amplitude (mV)', fontsize=10)  # Y label\n",
        "    axs[i, 1].set_title(f'{activity_map_ecg[activity_id]} - Movesense Dataset', fontsize=11)  # Title\n",
        "    axs[i, 1].legend(loc='upper left', fontsize=9)\n",
        "\n",
        "# plot the ecg 1&2 for a subject chosen from the list of subjects for the activities: 1min/20x\n",
        "## select a subject from the list of subjects in the experiment\n",
        "subject = movement_data[movement_data['subject'] == 'subject_f'] #subject_f=subject-6\n",
        "readings = ['ecg']\n",
        "for i, activity_id in enumerate(activity_map_ecg.keys()):\n",
        "    for r in readings:\n",
        "        if r == 'ecg':\n",
        "            # Plot the activities\n",
        "            axs[i, 0].plot(subject[subject['classes'] == activity_id].reset_index(drop=True)[r + '_i'], color='b', alpha=0.7)\n",
        "            axs[i, 0].plot(subject[subject['classes'] == activity_id].reset_index(drop=True)[r + '_ii'], color='green', alpha=0.7)\n",
        "            axs[i, 0].set_title(f'{activity_map_ecg[activity_id]} - MHEALTH Dataset', fontsize=11)\n",
        "            axs[i, 0].set_ylabel('\\nAmplitude (mV)', fontsize=10)\n",
        "            axs[i, 0].set_xlabel('Sample points', fontsize=9.5)\n",
        "            axs[i, 0].legend([\"ECG Lead 1\", \"ECG Lead 2\"], fontsize=9, loc=\"upper left\")\n",
        "# Display plots\n",
        "plt.tight_layout()\n",
        "plt.show()"
      ]
    },
    {
      "cell_type": "code",
      "execution_count": null,
      "id": "89127dd9",
      "metadata": {
        "scrolled": false,
        "id": "89127dd9"
      },
      "outputs": [],
      "source": [
        "# Plot the activities performed (without filtering) for both mhealth and movesense datasets >1min/20x\n",
        "fig, axs = plt.subplots(len(activity_map_ecg), 2, figsize=(12, 4 * len(activity_map_ecg)))\n",
        "# Plot the ecg measurement performed activities for the movesense dataset\n",
        "for i, activity_id in enumerate(activity_map_ecg.keys()):\n",
        "    axs[i, 1].plot(combined_df_ecg[combined_df_ecg['classes'] == activity_id].reset_index(drop=True)['sample_mV'], c='r', alpha=0.7, label='ECG Sample')\n",
        "    axs[i, 1].set_xlabel('Sample points', fontsize=9.5)  # X label\n",
        "    axs[i, 1].set_ylabel('Amplitude (mV)', fontsize=10)  # Y label\n",
        "    axs[i, 1].set_title(f'{activity_map_ecg[activity_id]} - Movesense Dataset', fontsize=11)  # Title\n",
        "    axs[i, 1].legend(loc='upper left', fontsize=9)\n",
        "\n",
        "# plot the ecg for a subject chosen from the list of subjects for the activities: 1min/20x for the 'mean_ecg column'\n",
        "## select a subject from the list of subjects in the experiment\n",
        "subject = movement_data[movement_data['subject'] == 'subject_f'] #subject_f=subject-6\n",
        "readings = ['Mean']\n",
        "for i, activity_id in enumerate(activity_map_ecg.keys()):\n",
        "    for r in readings:\n",
        "        if r == 'Mean':\n",
        "            # Plot the activities\n",
        "            axs[i, 0].plot(subject[subject['classes'] == activity_id].reset_index(drop=True)[r + '_ecg'], color='purple', alpha=0.7)\n",
        "            axs[i, 0].set_title(f'{activity_map_ecg[activity_id]} - MHEALTH Dataset', fontsize=11)\n",
        "            axs[i, 0].set_ylabel('\\nAmplitude (mV)', fontsize=10)\n",
        "            axs[i, 0].set_xlabel('Sample points', fontsize=9.5)\n",
        "            axs[i, 0].legend([\"Mean of ECG Lead 1 & 2\"], fontsize=9, loc=\"upper left\")\n",
        "# Display plots\n",
        "plt.tight_layout()\n",
        "plt.show()"
      ]
    },
    {
      "cell_type": "code",
      "execution_count": null,
      "id": "018ae3be",
      "metadata": {
        "scrolled": false,
        "id": "018ae3be"
      },
      "outputs": [],
      "source": [
        "# Plot for 100 to 500 samples (without filtering)\n",
        "fig, axs = plt.subplots(len(_activity_map_ecg_), 2, figsize=(12, 4 * len(_activity_map_ecg_)))\n",
        "\n",
        "# Plot the ECG activities performed for the Movesense dataset\n",
        "for i, activity_id in enumerate(_activity_map_ecg_.keys()):\n",
        "    axs[i, 1].plot(combined_df_ecg[combined_df_ecg['classes'] == activity_id].reset_index(drop=True)['sample_mV'][100:501], c='r', alpha=0.9, label='ECG Sample')\n",
        "    axs[i, 1].set_xlabel('Sample points', fontsize=9.5)  # X label\n",
        "    axs[i, 1].set_ylabel('Amplitude (mV)', fontsize=10)  # Y label\n",
        "    axs[i, 1].set_title(f'{_activity_map_ecg_[activity_id]} - Movesense Dataset', fontsize=11)  # Title\n",
        "    axs[i, 1].legend(loc='upper left', fontsize=9)\n",
        "\n",
        "# Select a subject from the list of subjects in the experiment\n",
        "subject = movement_data[movement_data['subject'] == 'subject_f']  # subject_f=subject-6\n",
        "readings = ['ecg']\n",
        "\n",
        "# Plot the ECG activities from Mhealth dataset\n",
        "for i, activity_id in enumerate(_activity_map_ecg_.keys()):\n",
        "    for r in readings:\n",
        "        if r == 'ecg':\n",
        "            axs[i, 0].plot(subject[subject['classes'] == activity_id].reset_index(drop=True)[r + '_i'][100:501], color='b', alpha=0.7)\n",
        "            axs[i, 0].plot(subject[subject['classes'] == activity_id].reset_index(drop=True)[r + '_ii'][100:501], color='green', alpha=0.7)\n",
        "            axs[i, 0].set_title(f'{_activity_map_ecg_[activity_id]} - MHEALTH Dataset', fontsize=11)\n",
        "            axs[i, 0].set_ylabel('\\nAmplitude (mV)', fontsize=10)\n",
        "            axs[i, 0].set_xlabel('Sample points', fontsize=9.5)\n",
        "            axs[i, 0].legend([\"ECG Lead 1\", \"ECG Lead 2\"], fontsize=9, loc=\"upper left\")\n",
        "\n",
        "# Display plots\n",
        "plt.tight_layout()\n",
        "plt.show()"
      ]
    },
    {
      "cell_type": "code",
      "execution_count": null,
      "id": "e0703bd4",
      "metadata": {
        "scrolled": false,
        "id": "e0703bd4"
      },
      "outputs": [],
      "source": [
        "# Plot for 100 to 500 samples,(without filtering)\n",
        "fig, axs = plt.subplots(len(_activity_map_ecg_), 2, figsize=(12, 4 * len(_activity_map_ecg_)))\n",
        "# Plot the ecg activites performed for the movesense dataset\n",
        "for i, activity_id in enumerate(_activity_map_ecg_.keys()):\n",
        "    axs[i, 1].plot(combined_df_ecg[combined_df_ecg['classes'] == activity_id].reset_index(drop=True)['sample_mV'][100:501], c='r', alpha=0.7, label='ECG Sample')\n",
        "    axs[i, 1].set_xlabel('Sample points', fontsize=9.5)  # X label\n",
        "    axs[i, 1].set_ylabel('Amplitude (mV)', fontsize=10)  # Y label\n",
        "    axs[i, 1].set_title(f'{_activity_map_ecg_[activity_id]} - Movesense Dataset', fontsize=11)  # Title\n",
        "    axs[i, 1].legend(loc='upper left', fontsize=9)\n",
        "\n",
        "# Select a subject from the list of subjects in the experiment for the 'mean_ecg column'\n",
        "subject = movement_data[movement_data['subject'] == 'subject_f'] #subject_f=subject-6\n",
        "readings = ['Mean']\n",
        "for i, activity_id in enumerate(_activity_map_ecg_.keys()):\n",
        "    for r in readings:\n",
        "        if r == 'Mean':\n",
        "            # Plot the ecg activities from Mhealth dataset\n",
        "            axs[i, 0].plot(subject[subject['classes'] == activity_id].reset_index(drop=True)[r + '_ecg'][100:501], color='purple', alpha=0.7)\n",
        "            axs[i, 0].set_title(f'{_activity_map_ecg_[activity_id]} - MHEALTH Dataset', fontsize=11)\n",
        "            axs[i, 0].set_ylabel('\\nAmplitude (mV)', fontsize=10)\n",
        "            axs[i, 0].set_xlabel('Sample points', fontsize=9.5)\n",
        "            axs[i, 0].legend([\"Mean of ECG Lead 1 & 2\"], fontsize=9, loc=\"upper left\")\n",
        "\n",
        "# Display plots\n",
        "plt.tight_layout()\n",
        "plt.show()"
      ]
    },
    {
      "cell_type": "markdown",
      "id": "615f0198",
      "metadata": {
        "id": "615f0198"
      },
      "source": [
        "# Filtering the test data"
      ]
    },
    {
      "cell_type": "code",
      "execution_count": null,
      "id": "9b763147",
      "metadata": {
        "id": "9b763147"
      },
      "outputs": [],
      "source": [
        "# Filter the ecg sensor signals from noise\n",
        "# low pass filtering > remove high frequency/abnormal noise\n",
        "## Define the low-pass filter parameters\n",
        "cutoff_freq = 20  # hz\n",
        "fs = 50  # sampling rate of the ecg_sample, hz\n",
        "nyquist_freq = 0.5 * fs\n",
        "n_order = 3\n",
        "# Designing the Butterworth low-pass filter\n",
        "b, a = butter(n_order, cutoff_freq/nyquist_freq, btype='low')\n",
        "# Applying the filter to the ecg data\n",
        "filterd_data = filtfilt(b, a, combined_df_ecg[['sample_mV']].values, axis=0)\n",
        "# assign the filtered data to the dataframe\n",
        "col=['sample_mV'] #column of df\n",
        "df_filtered_ecg= pd.DataFrame(filterd_data, columns=col) # put the filtered data to df\n",
        "df_filtered_ecg['classes'] =  combined_df_ecg['classes'] # assign its class labels\n",
        "# Display the filtered DataFrame\n",
        "#df_filtered_ecg.head() # display first_five rows"
      ]
    },
    {
      "cell_type": "code",
      "execution_count": null,
      "id": "e2fb5acb",
      "metadata": {
        "id": "e2fb5acb"
      },
      "outputs": [],
      "source": []
    },
    {
      "cell_type": "markdown",
      "id": "87a92238",
      "metadata": {
        "id": "87a92238"
      },
      "source": [
        "- Visualization plot with filtering"
      ]
    },
    {
      "cell_type": "code",
      "execution_count": null,
      "id": "b6e74d38",
      "metadata": {
        "scrolled": false,
        "id": "b6e74d38"
      },
      "outputs": [],
      "source": [
        "# Plot the activities performed for both mhealth and movesense datasets >1min/20x (with filtering)\n",
        "fig, axs = plt.subplots(len(activity_map_ecg), 2, figsize=(12, 4 * len(activity_map_ecg)))\n",
        "# Plot the ecg measurement performed activities for the movesense dataset\n",
        "for i, activity_id in enumerate(activity_map_ecg.keys()):\n",
        "    axs[i, 1].plot(df_filtered_ecg[df_filtered_ecg['classes'] == activity_id].reset_index(drop=True)['sample_mV'], c='r', alpha=0.7, label='ECG Sample')\n",
        "    axs[i, 1].set_xlabel('Sample points', fontsize=9.5)  # X label\n",
        "    axs[i, 1].set_ylabel('Amplitude (mV)', fontsize=10)  # Y label\n",
        "    axs[i, 1].set_title(f'{activity_map_ecg[activity_id]} - Movesense Dataset', fontsize=11)  # Title\n",
        "    axs[i, 1].legend(loc='upper left', fontsize=9)\n",
        "\n",
        "# plot the ecg 1&2 for a subject chosen from the list of subjects for the activities of 1min/20x\n",
        "## select a subject from the list of subjects in the experiment\n",
        "subject = filtered_movement_data[filtered_movement_data['subject'] == 'subject_f'] #subject_f=subject-6\n",
        "readings = ['ecg']\n",
        "for i, activity_id in enumerate(activity_map_ecg.keys()):\n",
        "    for r in readings:\n",
        "        if r == 'ecg':\n",
        "            # Plot the activities\n",
        "            axs[i, 0].plot(subject[subject['classes'] == activity_id].reset_index(drop=True)[r + '_i'], color='b', alpha=0.7)\n",
        "            axs[i, 0].plot(subject[subject['classes'] == activity_id].reset_index(drop=True)[r + '_ii'], color='green', alpha=0.7)\n",
        "            axs[i, 0].set_title(f'{activity_map_ecg[activity_id]} - MHEALTH Dataset', fontsize=11)\n",
        "            axs[i, 0].set_ylabel('\\nAmplitude (mV)', fontsize=10)\n",
        "            axs[i, 0].set_xlabel('Sample points', fontsize=9.5)\n",
        "            axs[i, 0].legend([\"ECG Lead 1\", \"ECG Lead 2\"], fontsize=9, loc=\"upper left\")\n",
        "# Display plots\n",
        "plt.tight_layout()\n",
        "plt.show()"
      ]
    },
    {
      "cell_type": "code",
      "execution_count": null,
      "id": "03a7d510",
      "metadata": {
        "scrolled": false,
        "id": "03a7d510"
      },
      "outputs": [],
      "source": [
        "# Plot the activities performed for both mhealth and movesense datasets >1min/20x (with filtering)\n",
        "fig, axs = plt.subplots(len(activity_map_ecg), 2, figsize=(12, 4 * len(activity_map_ecg)))\n",
        "# Plot the ecg measurement performed activities for the movesense dataset\n",
        "for i, activity_id in enumerate(activity_map_ecg.keys()):\n",
        "    axs[i, 1].plot(df_filtered_ecg[df_filtered_ecg['classes'] == activity_id].reset_index(drop=True)['sample_mV'], c='r', alpha=0.7, label='ECG Sample')\n",
        "    axs[i, 1].set_xlabel('Sample points', fontsize=9.5)  # X label\n",
        "    axs[i, 1].set_ylabel('Amplitude (mV)', fontsize=10)  # Y label\n",
        "    axs[i, 1].set_title(f'{activity_map_ecg[activity_id]} - Movesense Dataset', fontsize=11)  # Title\n",
        "    axs[i, 1].legend(loc='upper left', fontsize=9)\n",
        "\n",
        "# plot the ecg for a subject chosen from the list of subjects for the activities of 1min/20x for'mean_ecg column'\n",
        "## select a subject from the list of subjects in the experiment\n",
        "subject = filtered_movement_data[filtered_movement_data['subject'] == 'subject_f'] #subject_f=subject-6\n",
        "readings = ['Mean']\n",
        "for i, activity_id in enumerate(activity_map_ecg.keys()):\n",
        "    for r in readings:\n",
        "        if r == 'Mean':\n",
        "            # Plot the activities\n",
        "            axs[i, 0].plot(subject[subject['classes'] == activity_id].reset_index(drop=True)[r + '_ecg'], color='purple', alpha=0.7)\n",
        "            axs[i, 0].set_title(f'{activity_map_ecg[activity_id]} - MHEALTH Dataset', fontsize=11)\n",
        "            axs[i, 0].set_ylabel('\\nAmplitude (mV)', fontsize=10)\n",
        "            axs[i, 0].set_xlabel('Sample points', fontsize=9.5)\n",
        "            axs[i, 0].legend([\"Mean of ECG Lead 1 & 2\"], fontsize=9, loc=\"upper left\")\n",
        "# Display plots\n",
        "plt.tight_layout()\n",
        "plt.show()"
      ]
    },
    {
      "cell_type": "code",
      "execution_count": null,
      "id": "ad5eafaa",
      "metadata": {
        "scrolled": false,
        "id": "ad5eafaa"
      },
      "outputs": [],
      "source": [
        "# Plot for 100 to 500 samples (with filtering)\n",
        "fig, axs = plt.subplots(len(_activity_map_ecg_), 2, figsize=(12, 4 * len(_activity_map_ecg_)))\n",
        "# Plot the ecg activites performed for the movesense dataset\n",
        "for i, activity_id in enumerate(_activity_map_ecg_.keys()):\n",
        "    axs[i, 1].plot(df_filtered_ecg[df_filtered_ecg['classes'] == activity_id].reset_index(drop=True)['sample_mV'][100:501], c='r', alpha=0.7, label='ECG Sample')\n",
        "    axs[i, 1].set_xlabel('Sample points', fontsize=9.5)  # X label\n",
        "    axs[i, 1].set_ylabel('Amplitude (mV)', fontsize=10)  # Y label\n",
        "    axs[i, 1].set_title(f'{_activity_map_ecg_[activity_id]} - Movesense Dataset', fontsize=11)  # Title\n",
        "    axs[i, 1].legend(loc='upper left', fontsize=9)\n",
        "\n",
        "# Select a subject from the list of subjects in the experiment\n",
        "subject =filtered_movement_data[filtered_movement_data['subject'] == 'subject_f'] #subject_f=subject-6\n",
        "readings = ['ecg']\n",
        "for i, activity_id in enumerate(_activity_map_ecg_.keys()):\n",
        "    for r in readings:\n",
        "        if r == 'ecg':\n",
        "            # Plot the ecg activities from Mhealth dataset\n",
        "            axs[i, 0].plot(subject[subject['classes'] == activity_id].reset_index(drop=True)[r + '_i'][100:501], color='b', alpha=0.7)\n",
        "            axs[i, 0].plot(subject[subject['classes'] == activity_id].reset_index(drop=True)[r + '_ii'][100:501], color='green', alpha=0.7)\n",
        "            axs[i, 0].set_title(f'{_activity_map_ecg_[activity_id]} - MHEALTH Dataset', fontsize=11)\n",
        "            axs[i, 0].set_ylabel('\\nAmplitude (mV)', fontsize=10)\n",
        "            axs[i, 0].set_xlabel('Sample points', fontsize=9.5)\n",
        "            axs[i, 0].legend([\"ECG Lead 1\", \"ECG Lead 2\"], fontsize=9, loc=\"upper left\")\n",
        "\n",
        "# Display plots\n",
        "plt.tight_layout()\n",
        "plt.show()"
      ]
    },
    {
      "cell_type": "code",
      "execution_count": null,
      "id": "c0b55485",
      "metadata": {
        "scrolled": false,
        "id": "c0b55485"
      },
      "outputs": [],
      "source": [
        "# Plot for 100 to 500 samples (with filtering)\n",
        "fig, axs = plt.subplots(len(_activity_map_ecg_), 2, figsize=(12, 4 * len(_activity_map_ecg_)))\n",
        "# Plot the ecg activites performed for the movesense dataset\n",
        "for i, activity_id in enumerate(_activity_map_ecg_.keys()):\n",
        "    axs[i, 1].plot(df_filtered_ecg[df_filtered_ecg['classes'] == activity_id].reset_index(drop=True)['sample_mV'][100:501], c='r', alpha=0.7, label='ECG Sample')\n",
        "    axs[i, 1].set_xlabel('Sample points', fontsize=9.5)  # X label\n",
        "    axs[i, 1].set_ylabel('Amplitude (mV)', fontsize=10)  # Y label\n",
        "    axs[i, 1].set_title(f'{_activity_map_ecg_[activity_id]} - Movesense Dataset', fontsize=11)  # Title\n",
        "    axs[i, 1].legend(loc='upper left', fontsize=9)\n",
        "\n",
        "# Select a subject from the list of subjects in the experiment for'mean_ecg column'\n",
        "subject =filtered_movement_data[filtered_movement_data['subject'] == 'subject_f'] #subject_f=subject-6\n",
        "readings = ['Mean']\n",
        "for i, activity_id in enumerate(_activity_map_ecg_.keys()):\n",
        "    for r in readings:\n",
        "        if r == 'Mean':\n",
        "            # Plot the ecg activities from Mhealth dataset\n",
        "            axs[i, 0].plot(subject[subject['classes'] == activity_id].reset_index(drop=True)[r + '_ecg'][100:501], color='purple', alpha=0.7)\n",
        "            axs[i, 0].set_title(f'{_activity_map_ecg_[activity_id]} - MHEALTH Dataset', fontsize=11)\n",
        "            axs[i, 0].set_ylabel('\\nAmplitude (mV)', fontsize=10)\n",
        "            axs[i, 0].set_xlabel('Sample points', fontsize=9.5)\n",
        "            axs[i, 0].legend([\"Mean of ECG Lead 1 & 2\"], fontsize=9, loc=\"upper left\")\n",
        "\n",
        "# Display plots\n",
        "plt.tight_layout()\n",
        "plt.show()"
      ]
    },
    {
      "cell_type": "markdown",
      "id": "38fe4c58",
      "metadata": {
        "id": "38fe4c58"
      },
      "source": [
        "# Feature selection"
      ]
    },
    {
      "cell_type": "code",
      "execution_count": null,
      "id": "3bbf0a06",
      "metadata": {
        "id": "3bbf0a06"
      },
      "outputs": [],
      "source": [
        "# feature and label\n",
        "feature_ecg=df_filtered_ecg.copy() #feature/input\n",
        "label_ecg=feature_ecg.pop('classes') #label/output\n",
        "# display feature and label shape\n",
        "feature_ecg.shape , label_ecg.shape"
      ]
    },
    {
      "cell_type": "markdown",
      "id": "7bc61fd8",
      "metadata": {
        "id": "7bc61fd8"
      },
      "source": [
        "# Normalize the test data"
      ]
    },
    {
      "cell_type": "code",
      "execution_count": null,
      "id": "80621a5e",
      "metadata": {
        "id": "80621a5e"
      },
      "outputs": [],
      "source": [
        "# Creating an instance of StandardScaler to normalize the data\n",
        "scaler = StandardScaler()\n",
        "# Fit and transform the test data\n",
        "scaled_feature = scaler.fit_transform(feature_ecg)"
      ]
    },
    {
      "cell_type": "markdown",
      "id": "d1b63b73",
      "metadata": {
        "id": "d1b63b73"
      },
      "source": [
        "# Apply data segmentation function to the Test data"
      ]
    },
    {
      "cell_type": "code",
      "execution_count": null,
      "id": "d87a7c68",
      "metadata": {
        "id": "d87a7c68"
      },
      "outputs": [],
      "source": [
        "# Creating the test_data sequence\n",
        "# apply sliding window function\n",
        "_X_test_seq,_y_test_seq =create_sequences(scaled_feature,label_ecg,num_time_step=100,stepsize=50)\n",
        "print (_X_test_seq.shape, _y_test_seq.shape)"
      ]
    },
    {
      "cell_type": "markdown",
      "id": "397c2f44",
      "metadata": {
        "id": "397c2f44"
      },
      "source": [
        "# Evaluate the model on the Test data"
      ]
    },
    {
      "cell_type": "code",
      "execution_count": null,
      "id": "614bbcd0",
      "metadata": {
        "id": "614bbcd0"
      },
      "outputs": [],
      "source": [
        "# Model evaluation on the movesense_ecg_data to ascertain model's performance\n",
        "loss, accuracy =model.evaluate(_X_test_seq,_y_test_seq,verbose=0)\n",
        "print(f'Test loss: {loss:.4f}')\n",
        "print(f'\\nTest accuracy: {accuracy:.4f}')"
      ]
    },
    {
      "cell_type": "code",
      "execution_count": null,
      "id": "2f9d051e",
      "metadata": {
        "id": "2f9d051e"
      },
      "outputs": [],
      "source": [
        "# Prediction testing on the test_data to get classification\n",
        "classify_test_data_ecg =model.predict(_X_test_seq,verbose=0)\n",
        "classify_test_data_ecg= np.argmax(classify_test_data_ecg, axis=1)"
      ]
    },
    {
      "cell_type": "code",
      "execution_count": null,
      "id": "c31ad481",
      "metadata": {
        "id": "c31ad481"
      },
      "outputs": [],
      "source": [
        "# Create confusion matrix for the classifications > test data\n",
        "cm = confusion_matrix(_y_test_seq, classify_test_data_ecg)\n",
        "class_labels  = ['Standing still','Sitting and relaxing','Lying down','Walking', 'Climbing stairs',\n",
        "                       'Waist bends forward', 'Frontal elevation of arms','Knees bending (crouching)','Cycling',\n",
        "                      'Jogging','Running','Jump front & back' ] #'null'\n",
        "# Plot the confusion matrix for the classification\n",
        "plt.figure(figsize=(12, 8),dpi=75)\n",
        "sns.heatmap(cm,fmt=\"d\",annot=True, cmap='GnBu', xticklabels=class_labels, yticklabels=class_labels,linewidths = 0.1)\n",
        "plt.title('\\nConfusion Matrix : Classification-testing', fontsize=14, fontweight='bold')  #title\n",
        "plt.xlabel('\\nPredicted Activities', fontsize=12, fontweight='bold') #x-axis label\n",
        "plt.ylabel('\\nActual Activities', fontsize=12, fontweight='bold') #y-axis label\n",
        "#display cm plot\n",
        "plt.show()"
      ]
    },
    {
      "cell_type": "code",
      "execution_count": null,
      "id": "b50610a7",
      "metadata": {
        "id": "b50610a7"
      },
      "outputs": [],
      "source": []
    },
    {
      "cell_type": "raw",
      "id": "1390c252",
      "metadata": {
        "id": "1390c252"
      },
      "source": [
        "# Code used in downsampling the ECG labelled measurements of the movesense dataset\n",
        "from scipy.interpolate import interp1d\n",
        "\n",
        "# Input  and output file paths\n",
        "input_path = 'C:/Users/val-c/Desktop/movesense_lblled_ecg/*.csv'\n",
        "output_folder = 'C:/Users/val-c/Desktop/movesense_lblled_rsp_ecg' #path to save downsampled files\n",
        "\n",
        "# Creating the output folder\n",
        "os.makedirs(output_folder, exist_ok=True)\n",
        "\n",
        "# list all files in csv from the folder path\n",
        "file_paths = glob.glob(input_path)\n",
        "\n",
        "# Loop via each file\n",
        "for file_path in file_paths:\n",
        "    # Read the dataset from the CSV file\n",
        "    df = pd.read_csv(file_path)\n",
        "    # Resample the dataset for each column\n",
        "    resampled_data = {}\n",
        "    x_new = np.arange(0, len(df)-1, 125 / 50)\n",
        "    for column in df.columns:\n",
        "        # Creating an interpolation function for the columns in the Dataframe(df)\n",
        "        interp_func = interp1d(range(len(df)), df[column], kind='linear')\n",
        "        # Generating the resampled data using the interpolation function\n",
        "        resampled_data[column] = interp_func(x_new)\n",
        "\n",
        "    # Creating new file path in the output folder\n",
        "    new_file_name = os.path.basename(file_path).replace('.csv', '_resampled.csv')\n",
        "    new_file_path = os.path.join(output_folder, new_file_name)\n",
        "    # Converting the resampled data dictionary to a df\n",
        "    resampled_df = pd.DataFrame(resampled_data)\n",
        "    # Saving the resampled file to the new path\n",
        "    resampled_df.to_csv(new_file_path, index=False)"
      ]
    }
  ],
  "metadata": {
    "kernelspec": {
      "display_name": "Python 3 (ipykernel)",
      "language": "python",
      "name": "python3"
    },
    "language_info": {
      "codemirror_mode": {
        "name": "ipython",
        "version": 3
      },
      "file_extension": ".py",
      "mimetype": "text/x-python",
      "name": "python",
      "nbconvert_exporter": "python",
      "pygments_lexer": "ipython3",
      "version": "3.9.12"
    },
    "colab": {
      "provenance": []
    }
  },
  "nbformat": 4,
  "nbformat_minor": 5
}