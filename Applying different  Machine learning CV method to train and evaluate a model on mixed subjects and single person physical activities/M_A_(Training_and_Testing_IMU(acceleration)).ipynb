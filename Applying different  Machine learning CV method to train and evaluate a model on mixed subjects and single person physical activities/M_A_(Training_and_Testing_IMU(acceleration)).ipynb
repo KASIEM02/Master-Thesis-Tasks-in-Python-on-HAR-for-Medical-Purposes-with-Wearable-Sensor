{
  "cells": [
    {
      "cell_type": "markdown",
      "id": "b5c68d2e",
      "metadata": {
        "id": "b5c68d2e"
      },
      "source": [
        "Training and Testing with MHealth & Movesense IMU (acceleration)"
      ]
    },
    {
      "cell_type": "code",
      "execution_count": null,
      "id": "bd752e0a",
      "metadata": {
        "id": "bd752e0a"
      },
      "outputs": [],
      "source": [
        "# Importing libraries\n",
        "import pandas as pd\n",
        "import seaborn as sns\n",
        "import numpy as np\n",
        "import os\n",
        "import glob\n",
        "from scipy.signal import butter, filtfilt\n",
        "import matplotlib.pyplot as plt\n",
        "%matplotlib inline\n",
        "from keras import layers\n",
        "import keras\n",
        "from sklearn.preprocessing import StandardScaler\n",
        "from sklearn.metrics import classification_report, confusion_matrix\n",
        "import warnings\n",
        "warnings.filterwarnings('ignore')"
      ]
    },
    {
      "cell_type": "markdown",
      "id": "91f7bb98",
      "metadata": {
        "id": "91f7bb98"
      },
      "source": [
        "# Load the training data"
      ]
    },
    {
      "cell_type": "code",
      "execution_count": null,
      "id": "a873d4d2",
      "metadata": {
        "id": "a873d4d2"
      },
      "outputs": [],
      "source": [
        "# File directory_path\n",
        "## Columns of the training dataset: 'subject column' was introduced to extract activities performed by a specific subject\n",
        "headers=('acc_CHsensor_X','acc_CHsensor_Y','acc_CHsensor_Z','ecg_i','ecg_ii','acc_LAsensor_X','acc_LAsensor_Y','acc_LAsensor_Z',\n",
        "       'gyro_LAsensor_X','gyro_LAsensor_Y','gyro_LAsensor_Z','magn_LAsensor_X','magn_LAsensor_Y','magn_LAsensor_Z',\n",
        "      ' acc_RLAsensor_X',' acc_RLAsensor_Y',' acc_RLAsensor_Z', 'gyro_RLAsensor_sensor_X',' gyro_RLAsensor_sensor_Y',\n",
        "      ' gyro_RLAsensor_sensor_Z','magn_RLAsensor_X','magn_RLAsensor_Y','magn_RLAsensor_Z','classes', 'subject')\n",
        "# File location\n",
        "path = r\"C:/Users/val-c/Machine Learning_Deep Learning/MHEALTHDATASET-csv/*.csv\" # get files from the introduced subjects, .csv\n",
        "data_files = glob.glob(path)\n",
        "# Get list of files from path\n",
        "data_frames = []\n",
        "for file in data_files:\n",
        "    movement_activity_data = pd.read_csv(file,header=None, names=headers)\n",
        "    data_frames.append( movement_activity_data)"
      ]
    },
    {
      "cell_type": "code",
      "execution_count": null,
      "id": "b04d69a2",
      "metadata": {
        "id": "b04d69a2"
      },
      "outputs": [],
      "source": [
        "# Merge the folder files and display data\n",
        "movement_activity_data = pd.concat(data_frames, ignore_index=True)\n",
        "movement_activity_data.head() #display first-five rows"
      ]
    },
    {
      "cell_type": "code",
      "execution_count": null,
      "id": "d9c33949",
      "metadata": {
        "id": "d9c33949"
      },
      "outputs": [],
      "source": [
        "# Check for missing values\n",
        "movement_activity_data.isna().sum(axis=0).to_frame('Total')"
      ]
    },
    {
      "cell_type": "code",
      "execution_count": null,
      "id": "8a3b75e4",
      "metadata": {
        "id": "8a3b75e4"
      },
      "outputs": [],
      "source": [
        "# Data info of the dataframe\n",
        "movement_activity_data.info()"
      ]
    },
    {
      "cell_type": "code",
      "execution_count": null,
      "id": "9b8e171a",
      "metadata": {
        "id": "9b8e171a"
      },
      "outputs": [],
      "source": [
        "# Display class labels in the training data column\n",
        "movement_activity_data.classes.unique()"
      ]
    },
    {
      "cell_type": "code",
      "execution_count": null,
      "id": "675b01cd",
      "metadata": {
        "id": "675b01cd"
      },
      "outputs": [],
      "source": [
        "# Plot the number of samples present in each class_label using a Bar plot.\n",
        "class_label = ['Null','Standing still','Sitting and relaxing','Lying down','Walking', 'Climbing stairs',\n",
        "                       'Waist bends forward', 'Frontal elevation of arms','Knees bending (crouching)','Cycling',\n",
        "                      'Jogging','Running','Jump front & back']\n",
        "plt.figure(figsize=(8, 6),dpi=80) # figure sizing\n",
        "num_classes = len(class_label)\n",
        "plt.bar(range(num_classes), movement_activity_data[\"classes\"].value_counts(), color='k', linewidth=0.1) #plot data\n",
        "# Replace the numerical x-axis ticks with class labels\n",
        "plt.xticks(range(num_classes), class_label, rotation=45, ha='right')\n",
        "# the x-axis and y-axis labels, title\n",
        "plt.xlabel('\\nClasses', fontsize=12)\n",
        "plt.ylabel('\\nCount', fontsize=12)\n",
        "plt.title(\"\\nNumber of samples by class\", fontsize=14)\n",
        "#display plot\n",
        "plt.tight_layout()\n",
        "plt.show()"
      ]
    },
    {
      "cell_type": "code",
      "execution_count": null,
      "id": "39efbd35",
      "metadata": {
        "id": "39efbd35"
      },
      "outputs": [],
      "source": [
        "# Examining the class-label imbalance distribution\n",
        "counts = np.bincount(movement_activity_data[\"classes\"])\n",
        "neg , pos = counts[0], counts[1]\n",
        "total = neg + pos\n",
        "print('samples:\\nTotal: {}\\nPositive: {} ({:.2f}% of total)\\n'.format(total, pos, 100 * pos / total))"
      ]
    },
    {
      "cell_type": "code",
      "execution_count": null,
      "id": "2121179d",
      "metadata": {
        "id": "2121179d"
      },
      "outputs": [],
      "source": [
        "# Downsampling null_classes_0 observation to account for the imbalance distribution\n",
        "def downsample_data(movement_activity_data):\n",
        "    mask = movement_activity_data['classes'] == 0\n",
        "    HAR_data_classes0 = movement_activity_data[mask].sample(n=30720, random_state=1)\n",
        "    HAR_data_classes_else = movement_activity_data[~mask]\n",
        "    return pd.concat([HAR_data_classes0, HAR_data_classes_else], ignore_index=True)\n",
        "movement_data = downsample_data(movement_activity_data)\n",
        "# display the statistical balance\n",
        "movement_data.classes.value_counts()"
      ]
    },
    {
      "cell_type": "code",
      "execution_count": null,
      "id": "3586da20",
      "metadata": {
        "id": "3586da20"
      },
      "outputs": [],
      "source": [
        "# Plot the number of samples present in each class_label after downsampling the null class.\n",
        "class_label = ['Null','Standing still','Sitting and relaxing','Lying down','Walking', 'Climbing stairs',\n",
        "                       'Waist bends forward', 'Frontal elevation of arms','Knees bending (crouching)','Cycling',\n",
        "                      'Jogging','Running','Jump front & back']\n",
        "plt.figure(figsize=(8, 6), dpi=80) # figure sizing\n",
        "num_classes = len(class_label)\n",
        "sns.barplot(x=class_label, y=movement_data[\"classes\"].value_counts(), color='k', width=0.7) #plot data\n",
        "# Replace the numerical x-axis ticks with class labels\n",
        "plt.xticks(range(num_classes), class_label, rotation=45, ha='right')\n",
        "# the x-axis and y-axis labels, title\n",
        "plt.xlabel('\\nClasses', fontsize=12)\n",
        "plt.ylabel('\\nCount', fontsize=12)\n",
        "plt.title(\"\\nActivity distribution of the MHealth dataset\", fontsize=14)\n",
        "#display plot\n",
        "plt.tight_layout()\n",
        "plt.show()"
      ]
    },
    {
      "cell_type": "code",
      "execution_count": null,
      "id": "80bfe198",
      "metadata": {
        "id": "80bfe198"
      },
      "outputs": [],
      "source": [
        "# Display the rows and columns after balancing the distribution\n",
        "print('rows, cols :',movement_data.shape)"
      ]
    },
    {
      "cell_type": "code",
      "execution_count": null,
      "id": "058ec384",
      "metadata": {
        "id": "058ec384"
      },
      "outputs": [],
      "source": [
        "# Display the statistics of the dataframe\n",
        "movement_data.describe().T"
      ]
    },
    {
      "cell_type": "markdown",
      "id": "061ad5fa",
      "metadata": {
        "id": "061ad5fa"
      },
      "source": [
        "# Filtering the Training data"
      ]
    },
    {
      "cell_type": "code",
      "execution_count": null,
      "id": "1756064a",
      "metadata": {
        "id": "1756064a"
      },
      "outputs": [],
      "source": [
        "# Columns of the dataframe to apply low pass filtering, > exclude the columns for classes & subject\n",
        "cols=['acc_CHsensor_X','acc_CHsensor_Y','acc_CHsensor_Z','ecg_i','ecg_ii','acc_LAsensor_X','acc_LAsensor_Y','acc_LAsensor_Z',\n",
        "       'gyro_LAsensor_X','gyro_LAsensor_Y','gyro_LAsensor_Z','magn_LAsensor_X','magn_LAsensor_Y','magn_LAsensor_Z',\n",
        "      ' acc_RLAsensor_X',' acc_RLAsensor_Y',' acc_RLAsensor_Z', 'gyro_RLAsensor_sensor_X',' gyro_RLAsensor_sensor_Y',\n",
        "      ' gyro_RLAsensor_sensor_Z','magn_RLAsensor_X','magn_RLAsensor_Y','magn_RLAsensor_Z']\n",
        "# filtering the sensor signal from noise\n",
        "# low pass filtering > remove high frequency noise\n",
        "## Defining the low-pass filter parameters\n",
        "cutoff_freq = 20 # hz\n",
        "fs = 50  # hz\n",
        "nyquist_freq = 0.5 * fs\n",
        "n_order = 3 #filter_order\n",
        "# Designing the Butterworth filter\n",
        "b, a = butter(n_order , cutoff_freq/nyquist_freq, btype='low')\n",
        "# Applying the filter to the selected data_columns\n",
        "filtered_data = filtfilt(b, a,movement_data[cols].values, axis=0)\n",
        "#assign the filtered data to the dataframe\n",
        "filtered_movement_data= pd.DataFrame(filtered_data, columns=cols) # put the filtered data to df\n",
        "filtered_movement_data[['classes','subject']] = movement_data[['classes','subject']] # assign back the class labels and subject\n",
        "# Display the filtered DataFrame\n",
        "filtered_movement_data.head() # display first_five rows"
      ]
    },
    {
      "cell_type": "markdown",
      "id": "e397b19b",
      "metadata": {
        "id": "e397b19b"
      },
      "source": [
        "# Feature selection for training"
      ]
    },
    {
      "cell_type": "code",
      "execution_count": null,
      "id": "d962ca5d",
      "metadata": {
        "id": "d962ca5d"
      },
      "outputs": [],
      "source": [
        "# Feature selection >>\n",
        "## Drop other columns and leave acceleration_chest (x,y,z) and classes\n",
        "move_data=filtered_movement_data.drop(['ecg_i','ecg_ii','acc_LAsensor_X','acc_LAsensor_Y','acc_LAsensor_Z',\n",
        "       'gyro_LAsensor_X','gyro_LAsensor_Y','gyro_LAsensor_Z','magn_LAsensor_X','magn_LAsensor_Y','magn_LAsensor_Z',\n",
        "      ' acc_RLAsensor_X',' acc_RLAsensor_Y',' acc_RLAsensor_Z', 'gyro_RLAsensor_sensor_X',' gyro_RLAsensor_sensor_Y',\n",
        "      ' gyro_RLAsensor_sensor_Z','magn_RLAsensor_X','magn_RLAsensor_Y','magn_RLAsensor_Z','subject'],axis=1)"
      ]
    },
    {
      "cell_type": "code",
      "execution_count": null,
      "id": "e5747dd6",
      "metadata": {
        "id": "e5747dd6"
      },
      "outputs": [],
      "source": [
        "# Selected features and class from the dataframe\n",
        "Features =move_data.copy() #features/input\n",
        "Label = Features.pop('classes') # class_labels/output"
      ]
    },
    {
      "cell_type": "code",
      "execution_count": null,
      "id": "aa68106b",
      "metadata": {
        "id": "aa68106b"
      },
      "outputs": [],
      "source": [
        "# Display columns of the selected features (input variables)\n",
        "Features.columns"
      ]
    },
    {
      "cell_type": "markdown",
      "id": "9f6060de",
      "metadata": {
        "id": "9f6060de"
      },
      "source": [
        "# Normalize the training data"
      ]
    },
    {
      "cell_type": "code",
      "execution_count": null,
      "id": "bc608129",
      "metadata": {
        "id": "bc608129"
      },
      "outputs": [],
      "source": [
        "# StandardScaler to normalize the input variables\n",
        "scaler = StandardScaler()\n",
        "# Normalize the training input\n",
        "X_train_normalized = scaler.fit_transform(Features)"
      ]
    },
    {
      "cell_type": "markdown",
      "id": "0f33432e",
      "metadata": {
        "id": "0f33432e"
      },
      "source": [
        "# Data segmentation"
      ]
    },
    {
      "cell_type": "code",
      "execution_count": null,
      "id": "ccb7f06c",
      "metadata": {
        "id": "ccb7f06c"
      },
      "outputs": [],
      "source": [
        "# Creating a function for the sliding_window  ( this function would be applied to the training set database and testing set movesense data)\n",
        "#num_time_step: which specifies the length of each segment\n",
        "#step_size: which specifies the step size used to slide the window over the data\n",
        "def create_sequences(X, y, num_time_step, stepsize=1): # X:input y: output/target\n",
        "    segment, label = [],[]\n",
        "    for i in range(0,len(X) - num_time_step+1, stepsize):\n",
        "        x = X[i:i + num_time_step]\n",
        "        labels = y[i + num_time_step-1]\n",
        "        segment.append(x)\n",
        "        label.append(labels)\n",
        "    return np.array(segment), np.array(label)"
      ]
    },
    {
      "cell_type": "code",
      "execution_count": null,
      "id": "60df7908",
      "metadata": {
        "id": "60df7908"
      },
      "outputs": [],
      "source": [
        "# Creating the training sequence by applying the above create_sequences function\n",
        "X_train_seq,y_train_seq = create_sequences(X_train_normalized, Label, num_time_step=100, stepsize=50)\n",
        "print (X_train_seq.shape, y_train_seq.shape)"
      ]
    },
    {
      "cell_type": "code",
      "execution_count": null,
      "id": "e9274c40",
      "metadata": {
        "id": "e9274c40"
      },
      "outputs": [],
      "source": [
        "# Extract window_length,number of features, number of classes to be used in the input & ouput of the neural network\n",
        "window_length,num_features,num_classes= X_train_seq.shape[1], X_train_seq.shape[2],len(np.unique(y_train_seq))\n",
        "print(window_length,num_features,num_classes)"
      ]
    },
    {
      "cell_type": "markdown",
      "id": "cb34c9cd",
      "metadata": {
        "id": "cb34c9cd"
      },
      "source": [
        "# Configure the neural network"
      ]
    },
    {
      "cell_type": "code",
      "execution_count": null,
      "id": "3b9d1474",
      "metadata": {
        "id": "3b9d1474"
      },
      "outputs": [],
      "source": [
        "# Configuring >> CNN-1D_LSTM network architecture\n",
        "input_shape=(window_length,num_features)\n",
        "model= keras.Sequential([\n",
        "# Input layer\n",
        "     layers.Input(input_shape), #input\n",
        "     layers.Conv1D(filters=64, kernel_size=3, padding='same'),# CNN-1D layer 1\n",
        "     layers.BatchNormalization(),# batch_normalization\n",
        "     layers.Activation('relu'), # activation function\n",
        "# Hidden Conv. Layer\n",
        "     layers.Conv1D(filters=64, kernel_size=3, padding='same'), # CNN-1D layer 2\n",
        "     layers.BatchNormalization(), # batch_normalization\n",
        "     layers.Activation('relu'),# activation function\n",
        "# Recurrent LSTM Layers\n",
        "     layers.LSTM(units=128, return_sequences=True), # LSTM layer 1\n",
        "     layers.Activation('relu'), # activation function\n",
        "     layers.LSTM(units=128,return_sequences=False), # LSTM layer 2\n",
        "     layers.Activation('relu'), # activation function\n",
        "# Dense layers\n",
        "     layers.Dense(128,activation=\"relu\"), # Dense layer 1\n",
        "# Activation function for the output 'softmax' for the Multi-classification\n",
        "     layers.Dense(num_classes, activation='softmax')]) # ouput of dense layer\n",
        "\n",
        "# Summary of the model configuration\n",
        "model.summary(line_length=None,\n",
        "              positions=None,\n",
        "              print_fn=None,\n",
        "              expand_nested=False,\n",
        "              show_trainable=False,\n",
        "              layer_range=None,\n",
        "             )"
      ]
    },
    {
      "cell_type": "code",
      "execution_count": null,
      "id": "9df6a4f7",
      "metadata": {
        "id": "9df6a4f7"
      },
      "outputs": [],
      "source": [
        "# display block diagram of the network architecture\n",
        "#tf.keras.utils.plot_model(model, show_shapes=True)"
      ]
    },
    {
      "cell_type": "markdown",
      "id": "ae0d164a",
      "metadata": {
        "id": "ae0d164a"
      },
      "source": [
        "# Compile the model"
      ]
    },
    {
      "cell_type": "code",
      "execution_count": null,
      "id": "57efce75",
      "metadata": {
        "id": "57efce75"
      },
      "outputs": [],
      "source": [
        "# Compiling the model\n",
        "initial_learning_rate =0.001\n",
        "lr_schedule = keras.optimizers.schedules.ExponentialDecay(\n",
        "    initial_learning_rate,\n",
        "    decay_steps=10,\n",
        "    decay_rate=0.9) #decay_rate/factor\n",
        "opt = keras.optimizers.RMSprop(learning_rate=lr_schedule) # optimizer\n",
        "model.compile(optimizer=opt, loss= keras.losses.SparseCategoricalCrossentropy(), metrics=[\"sparse_categorical_accuracy\"],)"
      ]
    },
    {
      "cell_type": "markdown",
      "id": "f7d1f7a9",
      "metadata": {
        "id": "f7d1f7a9"
      },
      "source": [
        "# Train the model"
      ]
    },
    {
      "cell_type": "code",
      "execution_count": null,
      "id": "a68b4ab8",
      "metadata": {
        "id": "a68b4ab8"
      },
      "outputs": [],
      "source": [
        "# Training of the subsets for 10 iterations/epochs\n",
        "history=model.fit(X_train_seq, y_train_seq,validation_split=0.1,epochs=10,batch_size=64)"
      ]
    },
    {
      "cell_type": "code",
      "execution_count": null,
      "id": "a40a8fd1",
      "metadata": {
        "id": "a40a8fd1"
      },
      "outputs": [],
      "source": [
        "# View the training history in pandas df\n",
        "train_history= pd.DataFrame(history.history)\n",
        "train_history #display history"
      ]
    },
    {
      "cell_type": "code",
      "execution_count": null,
      "id": "61c293b8",
      "metadata": {
        "id": "61c293b8"
      },
      "outputs": [],
      "source": [
        "# Training progress / session visualization\n",
        "# Training accuracy plotting\n",
        "plt.figure(figsize=(8, 7), dpi=75)\n",
        "plt.subplot(1, 2, 1)\n",
        "plt.plot(history.history['sparse_categorical_accuracy'],c='g') #plot accuracy\n",
        "plt.plot(history.history['val_sparse_categorical_accuracy'],c='g', linestyle='--' ) #plot val_acc\n",
        "plt.title('Training Accuracy')\n",
        "plt.ylabel('Accuracy')\n",
        "plt.xlabel('Epoch')\n",
        "plt.legend(['accuracy', 'val_accuracy'])\n",
        "# Training loss plotting\n",
        "plt.subplot(1, 2, 2)\n",
        "plt.plot(history.history['loss'],c='r') #plot loss\n",
        "plt.plot(history.history['val_loss'],c='r',linestyle='--') #plot val_loss\n",
        "plt.title('Training Loss')\n",
        "plt.ylabel('Loss')\n",
        "plt.xlabel('Epoch')\n",
        "plt.legend(['loss','val_loss'])\n",
        "#display plot\n",
        "plt.tight_layout()\n",
        "plt.show()"
      ]
    },
    {
      "cell_type": "markdown",
      "id": "53c7a683",
      "metadata": {
        "id": "53c7a683"
      },
      "source": [
        "# Evaluate the training session"
      ]
    },
    {
      "cell_type": "code",
      "execution_count": null,
      "id": "284b39c7",
      "metadata": {
        "id": "284b39c7"
      },
      "outputs": [],
      "source": [
        "# Training session evaluation of the model\n",
        "loss, accuracy =model.evaluate(X_train_seq, y_train_seq,verbose=0)\n",
        "print(f'Train loss: {loss:.4f}')\n",
        "print(f'\\nTrain accuracy: {accuracy:.4f}')"
      ]
    },
    {
      "cell_type": "code",
      "execution_count": null,
      "id": "d0235d49",
      "metadata": {
        "id": "d0235d49"
      },
      "outputs": [],
      "source": [
        "# Prediction on the train_data to get training classifications\n",
        "classify_train_data =model.predict(X_train_seq,verbose=0)\n",
        "classify_train_data= np.argmax(classify_train_data, axis=1)"
      ]
    },
    {
      "cell_type": "code",
      "execution_count": null,
      "id": "6fa88124",
      "metadata": {
        "id": "6fa88124"
      },
      "outputs": [],
      "source": [
        "# Create confusion matrix for the classifications on the training session\n",
        "cm = confusion_matrix(y_train_seq, classify_train_data)\n",
        "class_labels = ['null','Standing still','Sitting and relaxing','Lying down','Walking', 'Climbing stairs',\n",
        "                       'Waist bends forward', 'Frontal elevation of arms','Knees bending (crouching)', 'Cycling',\n",
        "                      'Jogging','Running','Jump front & back']\n",
        "# Plot the confusion matrix for the classification >training\n",
        "plt.figure(figsize=(12, 8),dpi=80)\n",
        "sns.heatmap(cm,fmt=\"d\",annot=True, cmap='cividis', xticklabels=class_labels, yticklabels=class_labels,linewidths = 0.1)\n",
        "plt.title('\\nConfusion Matrix : Classification-training', fontsize=14, fontweight='bold')  #title\n",
        "plt.xlabel('\\nPredicted Activities', fontsize=12, fontweight='bold') #x-axis label\n",
        "plt.ylabel('\\nActual Activities', fontsize=12, fontweight='bold') #y-axis label\n",
        "#display cm plot\n",
        "plt.show()"
      ]
    },
    {
      "cell_type": "markdown",
      "id": "fae0824b",
      "metadata": {
        "id": "fae0824b"
      },
      "source": [
        "# Load the testing data"
      ]
    },
    {
      "cell_type": "code",
      "execution_count": null,
      "id": "e7543bf6",
      "metadata": {
        "id": "e7543bf6"
      },
      "outputs": [],
      "source": [
        "# File folder_location for the resampled IMU_movesense dataset\n",
        "folder_path_imu ='C:/Users/val-c/Desktop/movesense_lblled_rsp_imu'\n",
        "# Get the list of all files in the folder_location\n",
        "file_list = os.listdir(folder_path_imu)\n",
        "# Loop via the list of files & read them into pd\n",
        "dataframes = []\n",
        "for file_name in file_list:\n",
        "    if file_name.endswith(\".csv\"):  # files in csv format\n",
        "        file_path = os.path.join(folder_path_imu, file_name)\n",
        "        df = pd.read_csv(file_path)\n",
        "        dataframes.append(df)\n",
        "# Combine all the testing data_frame into one\n",
        "combined_df = pd.concat(dataframes, ignore_index=True)\n",
        "combined_df.head(n=5) #display first-five rows"
      ]
    },
    {
      "cell_type": "code",
      "execution_count": null,
      "id": "34073250",
      "metadata": {
        "id": "34073250"
      },
      "outputs": [],
      "source": [
        "# Checking for missing values on the test data\n",
        "combined_df.isna().sum()"
      ]
    },
    {
      "cell_type": "code",
      "execution_count": null,
      "id": "e79f5166",
      "metadata": {
        "id": "e79f5166"
      },
      "outputs": [],
      "source": [
        "# Display data info of the file\n",
        "combined_df.info()"
      ]
    },
    {
      "cell_type": "code",
      "execution_count": null,
      "id": "ccaff64d",
      "metadata": {
        "id": "ccaff64d"
      },
      "outputs": [],
      "source": [
        "# Convert float to integer_value for attibute > 'classes'\n",
        "combined_df['classes'] = combined_df['classes'].astype('int')"
      ]
    },
    {
      "cell_type": "code",
      "execution_count": null,
      "id": "c2ba0a60",
      "metadata": {
        "id": "c2ba0a60"
      },
      "outputs": [],
      "source": [
        "# Show the class_labels in the test data\n",
        "combined_df.classes.unique()"
      ]
    },
    {
      "cell_type": "code",
      "execution_count": null,
      "id": "d36c36ef",
      "metadata": {
        "id": "d36c36ef"
      },
      "outputs": [],
      "source": [
        "# Examining if class label imbalance exist on the test data\n",
        "## display nos of value in each class_label\n",
        "combined_df[\"classes\"].value_counts().sort_values()"
      ]
    },
    {
      "cell_type": "code",
      "execution_count": null,
      "id": "0a1e19f0",
      "metadata": {
        "id": "0a1e19f0"
      },
      "outputs": [],
      "source": [
        "# Drop the gyroscope measurements from the dataframe\n",
        "combined_df=combined_df.drop(['gx','gy','gz'],axis=1)"
      ]
    },
    {
      "cell_type": "code",
      "execution_count": null,
      "id": "74f4b90b",
      "metadata": {
        "id": "74f4b90b"
      },
      "outputs": [],
      "source": [
        "# Statistics of the test data dataframe\n",
        "combined_df.describe().T"
      ]
    },
    {
      "cell_type": "markdown",
      "id": "a75feb59",
      "metadata": {
        "id": "a75feb59"
      },
      "source": [
        "# Visualize activities of the Mhealth and Movesense datasets"
      ]
    },
    {
      "cell_type": "markdown",
      "id": "df3f8230",
      "metadata": {
        "id": "df3f8230"
      },
      "source": [
        "- Visualization plot without filtering"
      ]
    },
    {
      "cell_type": "code",
      "execution_count": null,
      "id": "e4b24d14",
      "metadata": {
        "id": "e4b24d14"
      },
      "outputs": [],
      "source": [
        "# Performed activities >>\n",
        "# To be used for 1 min/20x plot\n",
        "activity_map_acc = {1:'Standing still (1 min)',2:'Sitting and relaxing (1 min)',3:'Lying down (1 min)',\n",
        "                    4:'Walking (1 min)', 5: 'Climbing stairs (1 min)',6:'Waist bends forward (20x)',\n",
        "                    7:'Frontal elevation of arms (20x)',8:'Knees bending (crouching) (20x)',9:'Cycling (1 min)',\n",
        "                    10:'Jogging (1 min)',11:'Running (1 min)',12:'Jump front & back (20x)'}\n",
        "\n",
        "# To be used for 100 to 500 samples plot\n",
        "activity_map_accrl = {1:'Standing still',2:'Sitting and relaxing',3:'Lying down',4:'Walking',\n",
        "                      5:'Climbing stairs',6:'Waist bends forward',7:'Frontal elevation of arms',\n",
        "                      8:'Knees bending (crouching)',9:'Cycling',10:'Jogging',11:'Running',\n",
        "                      12:'Jump front & back'}"
      ]
    },
    {
      "cell_type": "code",
      "execution_count": null,
      "id": "0730816f",
      "metadata": {
        "id": "0730816f",
        "scrolled": false
      },
      "outputs": [],
      "source": [
        "# Plot the activities performed (not filtered) for both mhealth and movesense datasets\n",
        "fig, axs = plt.subplots(len(activity_map_acc), 2, figsize=(12, 4 * len(activity_map_acc)))\n",
        "# Plot the acceleration measurement performed for the movesense dataset\n",
        "for i, activity_id in enumerate(activity_map_acc.keys()):\n",
        "    axs[i, 1].plot(combined_df[combined_df['classes'] == activity_id].reset_index(drop=True)['x'], c='r', alpha=0.7, label='acc. x')\n",
        "    axs[i, 1].plot(combined_df[combined_df['classes'] == activity_id].reset_index(drop=True)['y'], c='b', alpha=0.7, label='acc. y')\n",
        "    axs[i, 1].plot(combined_df[combined_df['classes'] == activity_id].reset_index(drop=True)['z'], c='y', alpha=0.7, label='acc. z')\n",
        "    axs[i, 1].set_xlabel('Sample points', fontsize=9.5)  # X label\n",
        "    axs[i, 1].set_ylabel('Acceleration (m/s^2)', fontsize=10)  # Y label\n",
        "    axs[i, 1].set_title(f'{activity_map_acc[activity_id]} - Movesense Dataset', fontsize=11)  # Title\n",
        "    axs[i, 1].legend(loc='upper left', fontsize=9)\n",
        "\n",
        "# plot the chest_accleration for a subject chosen from the list of subjects for the activities of 1min/20x\n",
        "## select a subject from the list of subjects in the experiment\n",
        "subject = movement_data[movement_data['subject'] == 'subject_f'] #subject_f=subject-6\n",
        "readings = ['acc']\n",
        "for i, activity_id in enumerate(activity_map_acc.keys()):\n",
        "    for r in readings:\n",
        "        if r == 'acc':\n",
        "            # Plot the activities\n",
        "            axs[i, 0].plot(subject[subject['classes'] == activity_id].reset_index(drop=True)[r + '_CHsensor_X'], color='r', alpha=0.7)\n",
        "            axs[i, 0].plot(subject[subject['classes'] == activity_id].reset_index(drop=True)[r + '_CHsensor_Y'], color='b', alpha=0.7)\n",
        "            axs[i, 0].plot(subject[subject['classes'] == activity_id].reset_index(drop=True)[r + '_CHsensor_Z'], color='y', alpha=0.7)\n",
        "            axs[i, 0].set_title(f'{activity_map_acc[activity_id]} - MHEALTH Dataset', fontsize=11)\n",
        "            axs[i, 0].set_ylabel('\\nAcceleration (m/s^2)', fontsize=10)\n",
        "            axs[i, 0].set_xlabel('Sample points', fontsize=9.5)\n",
        "            axs[i, 0].legend([\"acc. x\", \"acc. y\", \"acc. z\"], fontsize=9, loc=\"upper left\")\n",
        "#display plots\n",
        "plt.tight_layout()\n",
        "plt.show()"
      ]
    },
    {
      "cell_type": "code",
      "execution_count": null,
      "id": "a14dbda7",
      "metadata": {
        "id": "a14dbda7",
        "scrolled": false
      },
      "outputs": [],
      "source": [
        "# Also plot the activities performed for samples 100 to 500 (not filtered)\n",
        "# Plot the acceleration measurements for different activities of the movesense dataset\n",
        "fig, axs = plt.subplots(len(activity_map_accrl), 2, figsize=(12,4* len(activity_map_accrl))) #, dpi=80\n",
        "# Creating a plot for the activities to be displayed\n",
        "for idx, i in enumerate(activity_map_accrl.keys()):\n",
        "    data_subset = combined_df[combined_df['classes'] == i].reset_index(drop=True)[100:501]  # Select samples 100 to 500\n",
        "    axs[idx, 1].plot(data_subset['x'], c='r', alpha=0.7, label='acc. x')  # acc.x\n",
        "    axs[idx, 1].plot(data_subset['y'], c='b', alpha=0.7, label='acc. y')  # acc.y\n",
        "    axs[idx, 1].plot(data_subset['z'], c='y', alpha=0.7, label='acc. z')  # acc.z\n",
        "    axs[idx, 1].set_xlabel('Sample points', fontsize=9.5)  # x_label\n",
        "    axs[idx, 1].set_ylabel('Acceleration (m/s^2)', fontsize=10)  # y_label\n",
        "    axs[idx, 1].set_title(f'{activity_map_accrl[i]} -  Movesense Dataset', fontsize=11)  # Title\n",
        "    axs[idx, 1].legend(loc='upper left', fontsize=9)\n",
        "\n",
        "# Plot acceleration for different activities with Mhealth dataset for samples 100 to 500\n",
        "# Select a subject from the list of subjects in the experiment\n",
        "subject = movement_data[movement_data['subject'] == 'subject_f']\n",
        "readings = ['acc']\n",
        "for idx, (activity_id, activity_name) in enumerate(activity_map_accrl.items()):\n",
        "    for r in readings:\n",
        "        # plot the activities\n",
        "        if r == 'acc':\n",
        "            data_subset = subject[subject['classes'] == activity_id].reset_index(drop=True)[100:501]  # Select samples 100 to 500\n",
        "            axs[idx, 0].plot(data_subset[r + '_CHsensor_X'], color='r', alpha=0.7)  # plot acc.x\n",
        "            axs[idx, 0].plot(data_subset[r + '_CHsensor_Y'], color='b', alpha=0.7)  # plot acc.y\n",
        "            axs[idx, 0].plot(data_subset[r + '_CHsensor_Z'], color='y', alpha=0.7)  # plot acc.z\n",
        "\n",
        "            axs[idx, 0].set_title(f'{activity_name} - MHEALTH Dataset', fontsize=11)  # Title\n",
        "            axs[idx, 0].set_ylabel('\\nAcceleration (m/s^2)', fontsize=10)  # y_label\n",
        "            axs[idx, 0].set_xlabel('Sample points', fontsize=9.5)  # x_label\n",
        "            axs[idx, 0].legend([\"acc. x\", \"acc. y\", \"acc. z\"], fontsize=9, loc=\"upper left\")\n",
        "#display plots\n",
        "plt.tight_layout()\n",
        "plt.show()"
      ]
    },
    {
      "cell_type": "markdown",
      "id": "9378b19e",
      "metadata": {
        "id": "9378b19e"
      },
      "source": [
        "# Re-order the Movesense acceleration measurements"
      ]
    },
    {
      "cell_type": "code",
      "execution_count": null,
      "id": "416e1752",
      "metadata": {
        "id": "416e1752"
      },
      "outputs": [],
      "source": [
        "# Creating a new DataFrame with desired column order and introduce negative signs\n",
        "new_df_acc = combined_df[['y', 'z', 'x','classes']].copy() # desired column order to match the training features > x,y,z columns\n",
        "new_df_acc[['y', 'z', 'x']] = -new_df_acc[['y', 'z', 'x']]\n",
        "# Display the modified DataFrame for the first-five rows\n",
        "new_df_acc.head()"
      ]
    },
    {
      "cell_type": "markdown",
      "id": "56e7b41f",
      "metadata": {
        "id": "56e7b41f"
      },
      "source": [
        "# Filtering the test data"
      ]
    },
    {
      "cell_type": "code",
      "execution_count": null,
      "id": "32d9df3d",
      "metadata": {
        "id": "32d9df3d"
      },
      "outputs": [],
      "source": [
        "# Filter the movesense acceleration measurements (re-orderd cols.) from noise\n",
        "# remove existing high frequency noise\n",
        "## defining the low-pass filter parameters\n",
        "cutoff_freq = 20\n",
        "fs = 50\n",
        "nyquist_freq = 0.5 * fs\n",
        "n_order = 3\n",
        "# Designing the Butterworth filter\n",
        "b, a = butter(n_order, cutoff_freq/nyquist_freq, btype='low')\n",
        "# Applying the filter to the accelerometer_measurements\n",
        "filter_data = filtfilt(b, a, new_df_acc[['y', 'z', 'x']].values, axis=0) # apply filter to columns with filtfilt function\n",
        "# assign the filtered data to the dataframe\n",
        "col=['y', 'z', 'x'] #columns of the the re-ordered df\n",
        "df_filtered_acc= pd.DataFrame(filter_data, columns=col) # put the filtered data to df\n",
        "df_filtered_acc['classes'] = new_df_acc['classes'] # assign its class labels\n",
        "# Display the filtered DataFrame\n",
        "#df_filtered_acc.head() # display first_five rows"
      ]
    },
    {
      "cell_type": "markdown",
      "id": "4e2418b5",
      "metadata": {
        "id": "4e2418b5"
      },
      "source": [
        "- Visualization plot with filtering"
      ]
    },
    {
      "cell_type": "code",
      "execution_count": null,
      "id": "4ed589e5",
      "metadata": {
        "id": "4ed589e5",
        "scrolled": false
      },
      "outputs": [],
      "source": [
        "# Plot and display peformed activities \"aftering filtering has been done\" on the datasets (mhealth and movesense measurements)\n",
        "# applying the filter to the original movesense accelerometer_data (not the re-ordered columns)\n",
        "filter_data_orl = filtfilt(b, a, combined_df[['x', 'y', 'z']].values, axis=0)\n",
        "# assigned the filtered data to the dataframe\n",
        "colmn=['x', 'y', 'z']\n",
        "orgl_filtered_acc= pd.DataFrame(filter_data_orl, columns=colmn)\n",
        "orgl_filtered_acc['classes'] = combined_df['classes'] # assign its class labels\n",
        "# Plot the acceleration measurements for movesense dataset > 1 min/20x\n",
        "fig, axs = plt.subplots(len(activity_map_acc), 2, figsize=(12, 4 * len(activity_map_acc)))\n",
        "# Plot activites\n",
        "for i, activity_id in enumerate(activity_map_acc.keys()):\n",
        "    axs[i, 1].plot(orgl_filtered_acc[orgl_filtered_acc['classes'] == activity_id].reset_index(drop=True)['x'], c='r', alpha=0.7, label='acc. x')\n",
        "    axs[i, 1].plot(orgl_filtered_acc[orgl_filtered_acc['classes'] == activity_id].reset_index(drop=True)['y'], c='b', alpha=0.7, label='acc. y')\n",
        "    axs[i, 1].plot(orgl_filtered_acc[orgl_filtered_acc['classes'] == activity_id].reset_index(drop=True)['z'], c='y', alpha=0.7, label='acc. z')\n",
        "    axs[i, 1].set_xlabel('Sample points', fontsize=9.5)  # X label\n",
        "    axs[i, 1].set_ylabel('Acceleration (m/s^2)', fontsize=10)  # Y label\n",
        "    axs[i, 1].set_title(f'{activity_map_acc[activity_id]} - Movesense Dataset', fontsize=11)  # Title\n",
        "    axs[i, 1].legend(loc='upper left', fontsize=9)\n",
        "\n",
        "# Plot the acceleration measurements for Mhealth datasets > 1 min/20x\n",
        "# select a subject from the list of subjects in the experiment\n",
        "subject =filtered_movement_data[filtered_movement_data['subject'] == 'subject_f']\n",
        "readings = ['acc']\n",
        "for i, activity_id in enumerate(activity_map_acc.keys()):\n",
        "    for r in readings:\n",
        "        if r == 'acc':\n",
        "            # Plot activities for subject_f=subject-6\n",
        "            axs[i, 0].plot(subject[subject['classes'] == activity_id].reset_index(drop=True)[r + '_CHsensor_X'], color='r', alpha=0.7)\n",
        "            axs[i, 0].plot(subject[subject['classes'] == activity_id].reset_index(drop=True)[r + '_CHsensor_Y'], color='b', alpha=0.7)\n",
        "            axs[i, 0].plot(subject[subject['classes'] == activity_id].reset_index(drop=True)[r + '_CHsensor_Z'], color='y', alpha=0.7)\n",
        "            axs[i, 0].set_title(f'{activity_map_acc[activity_id]} - MHEALTH Dataset', fontsize=11)\n",
        "            axs[i, 0].set_ylabel('\\nAcceleration (m/s^2)', fontsize=10)\n",
        "            axs[i, 0].set_xlabel('Sample points', fontsize=9.5)\n",
        "            axs[i, 0].legend([\"acc. x\", \"acc. y\", \"acc. z\"], fontsize=9, loc=\"upper left\")\n",
        "# Display plots\n",
        "plt.tight_layout()\n",
        "plt.show()"
      ]
    },
    {
      "cell_type": "code",
      "execution_count": null,
      "id": "c5cdd2e2",
      "metadata": {
        "id": "c5cdd2e2",
        "scrolled": false
      },
      "outputs": [],
      "source": [
        "# Plot and display peformed activities \"after filtering has been done\" on the datasets (mhealth and movesense measurements)\n",
        "# create a plot for the acceleration measurements for the Movesense dataset 100 to 500 samples to the re-ordered columns\n",
        "fig, axs = plt.subplots(len(activity_map_accrl), 2, figsize=(12,4 * len(activity_map_accrl)))\n",
        "\n",
        "for idx, i in enumerate(activity_map_accrl.keys()):\n",
        "    data_subset = df_filtered_acc[df_filtered_acc['classes'] == i].reset_index(drop=True)[100:501]  # select samples 100 to 500\n",
        "    axs[idx, 1].plot(data_subset['y'], c='r', alpha=0.9, label='acc. y')  # acc.y\n",
        "    axs[idx, 1].plot(data_subset['z'], c='b', alpha=0.9, label='acc. z')  # acc.z\n",
        "    axs[idx, 1].plot(data_subset['x'], c='y', alpha=0.9, label='acc. x')  # acc.x\n",
        "    axs[idx, 1].set_xlabel('Sample points', fontsize=9.5)  # x_label\n",
        "    axs[idx, 1].set_ylabel('Acceleration (m/s^2)', fontsize=10)  # y_label\n",
        "    axs[idx, 1].set_title(f'{activity_map_accrl[i]} -  Movesense Dataset', fontsize=11)  # title\n",
        "    axs[idx, 1].legend(loc='upper left', fontsize=9)\n",
        "\n",
        "# Select a subject from the list of subjects in the experiment\n",
        "subject = filtered_movement_data[filtered_movement_data['subject'] == 'subject_f']\n",
        "readings = ['acc']\n",
        "# Plot the acceleration measurements for the Mhealth datasets for samples 100 to 500\n",
        "for idx, (activity_id, activity_name) in enumerate(activity_map_accrl.items()):\n",
        "    for r in readings:\n",
        "        # acceleration chest sensor activity\n",
        "        if r == 'acc':\n",
        "            data_subset = subject[subject['classes'] == activity_id].reset_index(drop=True)[100:501]  # Select samples 100 to 500\n",
        "            axs[idx, 0].plot(data_subset[r + '_CHsensor_X'], color='r', alpha=0.9)  # plot acc.x\n",
        "            axs[idx, 0].plot(data_subset[r + '_CHsensor_Y'], color='b', alpha=0.9)  # plot acc.y\n",
        "            axs[idx, 0].plot(data_subset[r + '_CHsensor_Z'], color='y', alpha=0.9)  # plot acc.z\n",
        "            axs[idx, 0].set_title(f'{activity_name} - MHEALTH Dataset', fontsize=11)  # title\n",
        "            axs[idx, 0].set_ylabel('\\nAcceleration (m/s^2)', fontsize=10)  # y_label\n",
        "            axs[idx, 0].set_xlabel('Sample points', fontsize=9.5)  # x_label\n",
        "            axs[idx, 0].legend([\"acc. x\", \"acc. y\", \"acc. z\"], fontsize=9, loc=\"upper left\")\n",
        "# Display plots\n",
        "plt.tight_layout()\n",
        "plt.show()"
      ]
    },
    {
      "cell_type": "markdown",
      "id": "b637b3ca",
      "metadata": {
        "id": "b637b3ca"
      },
      "source": [
        "# Feature selection"
      ]
    },
    {
      "cell_type": "code",
      "execution_count": null,
      "id": "f4a4430b",
      "metadata": {
        "id": "f4a4430b"
      },
      "outputs": [],
      "source": [
        "# Feature selection accelration (y,z,x) and label of the test data\n",
        "_feature_ = df_filtered_acc.copy() #features /input\n",
        "_label_ = _feature_.pop('classes') # labels/output\n",
        "# display feature and label shape\n",
        "_feature_.shape , _label_.shape"
      ]
    },
    {
      "cell_type": "code",
      "execution_count": null,
      "id": "4acc17a8",
      "metadata": {
        "id": "4acc17a8"
      },
      "outputs": [],
      "source": [
        "# Display columns of the features (test data)\n",
        "_feature_.columns"
      ]
    },
    {
      "cell_type": "markdown",
      "id": "d82ff996",
      "metadata": {
        "id": "d82ff996"
      },
      "source": [
        "# Normalize the test data"
      ]
    },
    {
      "cell_type": "code",
      "execution_count": null,
      "id": "ee0fec29",
      "metadata": {
        "id": "ee0fec29"
      },
      "outputs": [],
      "source": [
        "# Creating an instance of StandardScaler to normalize the imu_acc test_data (input)\n",
        "scaler = StandardScaler()\n",
        "# Fit and transform the test acceleration data\n",
        "feature_scaled = scaler.fit_transform(_feature_)"
      ]
    },
    {
      "cell_type": "markdown",
      "id": "7cdd35b1",
      "metadata": {
        "id": "7cdd35b1"
      },
      "source": [
        "# Apply data segmentation function to the Test data"
      ]
    },
    {
      "cell_type": "code",
      "execution_count": null,
      "id": "406216b5",
      "metadata": {
        "id": "406216b5"
      },
      "outputs": [],
      "source": [
        "# Creating the testing_data sequence using the already defined function initially\n",
        "X_test_seq,y_test_seq = create_sequences(feature_scaled, _label_, num_time_step=100,stepsize=50)\n",
        "print (X_test_seq.shape, y_test_seq.shape)"
      ]
    },
    {
      "cell_type": "markdown",
      "id": "88f898a5",
      "metadata": {
        "id": "88f898a5"
      },
      "source": [
        "# Evaluate the model on the Test data"
      ]
    },
    {
      "cell_type": "code",
      "execution_count": null,
      "id": "d2684e00",
      "metadata": {
        "id": "d2684e00"
      },
      "outputs": [],
      "source": [
        "# Model evaluation on the movesense_test_data to ascertain the trained model's performance\n",
        "loss, accuracy =model.evaluate(X_test_seq,y_test_seq,verbose=0)\n",
        "print(f'Test loss: {loss:.4f}')\n",
        "print(f'\\nTest accuracy: {accuracy:.4f}')"
      ]
    },
    {
      "cell_type": "code",
      "execution_count": null,
      "id": "b9067bc5",
      "metadata": {
        "id": "b9067bc5"
      },
      "outputs": [],
      "source": [
        "# Prediction testing on the test_data to get classification result\n",
        "classify_test_data =model.predict(X_test_seq,verbose=0)\n",
        "classify_test_data= np.argmax(classify_test_data, axis=1)"
      ]
    },
    {
      "cell_type": "code",
      "execution_count": null,
      "id": "ba5b7a9d",
      "metadata": {
        "id": "ba5b7a9d"
      },
      "outputs": [],
      "source": [
        "# Create confusion matrix for the classifications > test data\n",
        "cm = confusion_matrix(y_test_seq, classify_test_data)\n",
        "class_labels  = ['null','Standing still','Sitting and relaxing','Lying down','Walking', 'Climbing stairs',\n",
        "                       'Waist bends forward', 'Frontal elevation of arms','Knees bending (crouching)','Cycling',\n",
        "                      'Jogging','Running','Jump front & back' ]#null\n",
        "# Plot the confusion matrix for the classification >> test data\n",
        "plt.figure(figsize=(12, 9),dpi=75)\n",
        "sns.heatmap(cm,fmt=\"d\",annot=True, cmap='cividis', xticklabels=class_labels, yticklabels=class_labels,linewidths = 0.1)\n",
        "plt.title('\\nConfusion Matrix : Classification-testing', fontsize=14, fontweight='bold')  #title\n",
        "plt.xlabel('\\nPredicted Activities', fontsize=12, fontweight='bold') #x-axis label\n",
        "plt.ylabel('\\nActual Activities', fontsize=12, fontweight='bold') #y-axis label\n",
        "#display cm plot\n",
        "plt.show()"
      ]
    },
    {
      "cell_type": "raw",
      "id": "5d577b72",
      "metadata": {
        "id": "5d577b72"
      },
      "source": [
        "#save the trained Conv_LSTM_model as .h5\n",
        "#model.save('conv_lstm.h5') # saving built model"
      ]
    },
    {
      "cell_type": "raw",
      "id": "9b4745a8",
      "metadata": {
        "id": "9b4745a8"
      },
      "source": [
        "# Code used in downsampling the imu_labelled measurements of the movesense dataset\n",
        "from scipy.interpolate import interp1d\n",
        "\n",
        "# Input and output paths\n",
        "input_path = 'C:/Users/val-c/Desktop/movesense_lblled_imu/*.csv'\n",
        "output_folder = 'C:/Users/val-c/Desktop/movesense_lblled_rsp_imu' # path to save the downsampled files\n",
        "\n",
        "# Creating the output folder\n",
        "os.makedirs(output_folder, exist_ok=True)\n",
        "\n",
        "# list all files in csv from the folder path\n",
        "file_paths = glob.glob(input_path)\n",
        "\n",
        "# Loop via each file\n",
        "for file_path in file_paths:\n",
        "    # Read the dataset from the CSV file\n",
        "    df = pd.read_csv(file_path)\n",
        "    # Resample the dataset for each column\n",
        "    resampled_data = {}\n",
        "    x_new = np.arange(0, len(df)-1, 52 / 50)\n",
        "    for column in df.columns:\n",
        "        # Creating an interpolation function for the columns in the dataframe (df)\n",
        "        interp_func = interp1d(range(len(df)), df[column], kind='linear')\n",
        "        # Generating the resampled data using the interpolation function\n",
        "        resampled_data[column] = interp_func(x_new)\n",
        "\n",
        "    # Creating new file path in the output folder\n",
        "    new_file_name = os.path.basename(file_path).replace('.csv', '_resampled.csv')\n",
        "    new_file_path = os.path.join(output_folder, new_file_name)\n",
        "    # Converting the resampled data dictionary to a df\n",
        "    resampled_df = pd.DataFrame(resampled_data)\n",
        "    # Saving the resampled df to the new CSV file\n",
        "    resampled_df.to_csv(new_file_path, index=False)"
      ]
    }
  ],
  "metadata": {
    "colab": {
      "provenance": []
    },
    "kernelspec": {
      "display_name": "Python 3 (ipykernel)",
      "language": "python",
      "name": "python3"
    },
    "language_info": {
      "codemirror_mode": {
        "name": "ipython",
        "version": 3
      },
      "file_extension": ".py",
      "mimetype": "text/x-python",
      "name": "python",
      "nbconvert_exporter": "python",
      "pygments_lexer": "ipython3",
      "version": "3.9.12"
    }
  },
  "nbformat": 4,
  "nbformat_minor": 5
}