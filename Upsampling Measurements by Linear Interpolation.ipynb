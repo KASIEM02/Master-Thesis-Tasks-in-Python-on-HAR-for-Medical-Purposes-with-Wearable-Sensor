{
 "cells": [
  {
   "cell_type": "markdown",
   "id": "98631ccf",
   "metadata": {},
   "source": [
    "Upsample measurements"
   ]
  },
  {
   "cell_type": "code",
   "execution_count": 1,
   "id": "eebb4853",
   "metadata": {},
   "outputs": [],
   "source": [
    "import os\n",
    "import glob\n",
    "import pandas as pd\n",
    "import numpy as np\n",
    "from scipy.interpolate import interp1d\n",
    "\n",
    "# Upsample pressure measuremnts (1Hz to apprx. 195Hz) from the folder path \n",
    "# Input and output paths\n",
    "input_path = 'C:/Users/val-c/Desktop/pressure_data_separated/*.csv'\n",
    "output_folder = 'C:/Users/val-c/Desktop/upsample_pressure_data' # path to save the upsampled files\n",
    "# Creating the output folder\n",
    "os.makedirs(output_folder, exist_ok=True)\n",
    "# list all files in csv from the folder path\n",
    "file_paths = glob.glob(input_path)\n",
    "# Loop via each file\n",
    "for file_path in file_paths:\n",
    "    # Read the dataset from the CSV file\n",
    "    df = pd.read_csv(file_path)\n",
    "    # Resample the dataset for each column\n",
    "    resampled_data = {}\n",
    "    x_new = np.arange(0, len(df)-1, 1 / 195)\n",
    "    for column in df.columns:\n",
    "        # Creating an interpolation function for the columns in the dataframe (df)\n",
    "        interp_func = interp1d(range(len(df)), df[column], kind='linear')\n",
    "        # Generating the resampled data using the interpolation function\n",
    "        resampled_data[column] = interp_func(x_new)\n",
    "    # Creating new file path in the output folder\n",
    "    new_file_name = os.path.basename(file_path).replace('.csv', '_upsampled.csv')\n",
    "    new_file_path = os.path.join(output_folder, new_file_name)\n",
    "    # Converting the resampled data dictionary to a df\n",
    "    resampled_df = pd.DataFrame(resampled_data)\n",
    "    # Saving the resampled df to the new CSV file\n",
    "    resampled_df.to_csv(new_file_path, index=False)"
   ]
  },
  {
   "cell_type": "code",
   "execution_count": 2,
   "id": "7ac5dbae",
   "metadata": {},
   "outputs": [],
   "source": [
    "# Upsample IMU measuremnts (25Hz to apprx. 195Hz) from the folder path \n",
    "\n",
    "# Input and output paths\n",
    "input_path = 'C:/Users/val-c/Desktop/imu_data_separated/*.csv'\n",
    "output_folder = 'C:/Users/val-c/Desktop/upsample_imu_data' # path to save the upsampled files\n",
    "# Creating the output folder\n",
    "os.makedirs(output_folder, exist_ok=True)\n",
    "# list all files in csv from the folder path\n",
    "file_paths = glob.glob(input_path)\n",
    "# Loop via each file\n",
    "for file_path in file_paths:\n",
    "    # Read the dataset from the CSV file\n",
    "    df = pd.read_csv(file_path)\n",
    "    # Resample the dataset for each column\n",
    "    resampled_data = {}\n",
    "    x_new = np.arange(0, len(df)-1, 25 / 195)\n",
    "    for column in df.columns:\n",
    "        # Creating an interpolation function for the columns in the dataframe (df)\n",
    "        interp_func = interp1d(range(len(df)), df[column], kind='linear')\n",
    "        # Generating the resampled data using the interpolation function\n",
    "        resampled_data[column] = interp_func(x_new)\n",
    "    # Creating new file path in the output folder\n",
    "    new_file_name = os.path.basename(file_path).replace('.csv', '_upsampled.csv')\n",
    "    new_file_path = os.path.join(output_folder, new_file_name)\n",
    "    # Converting the resampled data dictionary to a df\n",
    "    resampled_df = pd.DataFrame(resampled_data)\n",
    "    # Saving the resampled df to the new CSV file\n",
    "    resampled_df.to_csv(new_file_path, index=False)"
   ]
  },
  {
   "cell_type": "code",
   "execution_count": null,
   "id": "927ec821",
   "metadata": {},
   "outputs": [],
   "source": []
  }
 ],
 "metadata": {
  "kernelspec": {
   "display_name": "Python 3 (ipykernel)",
   "language": "python",
   "name": "python3"
  },
  "language_info": {
   "codemirror_mode": {
    "name": "ipython",
    "version": 3
   },
   "file_extension": ".py",
   "mimetype": "text/x-python",
   "name": "python",
   "nbconvert_exporter": "python",
   "pygments_lexer": "ipython3",
   "version": "3.9.12"
  }
 },
 "nbformat": 4,
 "nbformat_minor": 5
}
